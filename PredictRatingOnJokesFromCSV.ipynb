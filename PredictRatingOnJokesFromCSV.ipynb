{
 "cells": [
  {
   "cell_type": "markdown",
   "id": "873b36ab",
   "metadata": {},
   "source": [
    "# Joke Quality Classification with Naïve Bayes and n-grams\n",
    "This notebook shows a **full, editable workflow** for rating jokes on a continous scale using Ridge Regression classifier with configurable n-gram ranges.\n",
    "\n",
    "1. **Load** your CSV (`Id, Title, Category, Body, Rating`).\n",
    "2. **Vectorise** the `Body` column with an n-gram span you choose.\n",
    "3. **Train / evaluate** Ridge Regression.\n",
    "4. **Tweak** `NGRAM_LOW` / `NGRAM_HIGH`, re-run and compare metrics.\n",
    "\n",
    "> **Tip:** If `Rating` is empty, label some jokes manually, train the model, and then go back and predict on the rest."
   ]
  },
  {
   "cell_type": "code",
   "execution_count": 1,
   "id": "ee5cc61f",
   "metadata": {},
   "outputs": [],
   "source": [
    "# Install dependencies if needed\n",
    "!pip install pandas scikit-learn matplotlib -q"
   ]
  },
  {
   "cell_type": "code",
   "execution_count": 1,
   "id": "5f53a835",
   "metadata": {},
   "outputs": [],
   "source": [
    "import pandas as pd\n",
    "import numpy as np\n",
    "from pathlib import Path\n",
    "from sklearn.feature_extraction.text import CountVectorizer\n",
    "from sklearn.model_selection import train_test_split\n",
    "from sklearn.pipeline import Pipeline\n",
    "from sklearn.feature_extraction.text import CountVectorizer\n",
    "from sklearn.linear_model import Ridge \n",
    "from sklearn.metrics import mean_squared_error"
   ]
  },
  {
   "cell_type": "markdown",
   "id": "56ddd159",
   "metadata": {},
   "source": [
    "## 1. Configuration – edit these values as needed"
   ]
  },
  {
   "cell_type": "code",
   "execution_count": 12,
   "id": "f0b91c69",
   "metadata": {},
   "outputs": [],
   "source": [
    "# ---------------- user-editable ----------------\n",
    "CSV_PATH = Path('jester.csv')      # path to your dataset\n",
    "TEXT_COL = 'Body'                 # column with the actual joke\n",
    "LABEL_COL = 'Rating'        # numeric 1-5 label (or NaN if unlabeled)\n",
    "NGRAM_LOW, NGRAM_HIGH = 1, 2      # n-gram range (inclusive)\n",
    "TEST_SIZE = 0.2                   # 20% test split\n",
    "ALPHA = 1.0                       # Ridge regression alpha\n",
    "RANDOM_STATE = 42\n",
    "# -----------------------------------------------"
   ]
  },
  {
   "cell_type": "markdown",
   "id": "b3a67dee",
   "metadata": {},
   "source": [
    "## 2. Load data"
   ]
  },
  {
   "cell_type": "code",
   "execution_count": 13,
   "id": "fc3a074e",
   "metadata": {},
   "outputs": [
    {
     "name": "stdout",
     "output_type": "stream",
     "text": [
      "Dataset shape: (150, 5)\n"
     ]
    },
    {
     "data": {
      "text/html": [
       "<div>\n",
       "<style scoped>\n",
       "    .dataframe tbody tr th:only-of-type {\n",
       "        vertical-align: middle;\n",
       "    }\n",
       "\n",
       "    .dataframe tbody tr th {\n",
       "        vertical-align: top;\n",
       "    }\n",
       "\n",
       "    .dataframe thead th {\n",
       "        text-align: right;\n",
       "    }\n",
       "</style>\n",
       "<table border=\"1\" class=\"dataframe\">\n",
       "  <thead>\n",
       "    <tr style=\"text-align: right;\">\n",
       "      <th></th>\n",
       "      <th>ID</th>\n",
       "      <th>Title</th>\n",
       "      <th>Category</th>\n",
       "      <th>Body</th>\n",
       "      <th>Rating</th>\n",
       "    </tr>\n",
       "  </thead>\n",
       "  <tbody>\n",
       "    <tr>\n",
       "      <th>0</th>\n",
       "      <td>1</td>\n",
       "      <td>NaN</td>\n",
       "      <td>NaN</td>\n",
       "      <td>A man visits the doctor. The doctor says \"I ha...</td>\n",
       "      <td>NaN</td>\n",
       "    </tr>\n",
       "    <tr>\n",
       "      <th>1</th>\n",
       "      <td>2</td>\n",
       "      <td>NaN</td>\n",
       "      <td>NaN</td>\n",
       "      <td>This couple had an excellent relationship goin...</td>\n",
       "      <td>NaN</td>\n",
       "    </tr>\n",
       "    <tr>\n",
       "      <th>2</th>\n",
       "      <td>3</td>\n",
       "      <td>NaN</td>\n",
       "      <td>NaN</td>\n",
       "      <td>Q. What's 200 feet long and has 4 teeth? \\n\\nA...</td>\n",
       "      <td>NaN</td>\n",
       "    </tr>\n",
       "    <tr>\n",
       "      <th>3</th>\n",
       "      <td>4</td>\n",
       "      <td>NaN</td>\n",
       "      <td>NaN</td>\n",
       "      <td>Q. What's the difference between a man and a t...</td>\n",
       "      <td>NaN</td>\n",
       "    </tr>\n",
       "    <tr>\n",
       "      <th>4</th>\n",
       "      <td>5</td>\n",
       "      <td>NaN</td>\n",
       "      <td>NaN</td>\n",
       "      <td>Q.\\tWhat's O. J. Simpson's Internet address? \\...</td>\n",
       "      <td>-1.756331</td>\n",
       "    </tr>\n",
       "  </tbody>\n",
       "</table>\n",
       "</div>"
      ],
      "text/plain": [
       "   ID  Title  Category                                               Body  \\\n",
       "0   1    NaN       NaN  A man visits the doctor. The doctor says \"I ha...   \n",
       "1   2    NaN       NaN  This couple had an excellent relationship goin...   \n",
       "2   3    NaN       NaN  Q. What's 200 feet long and has 4 teeth? \\n\\nA...   \n",
       "3   4    NaN       NaN  Q. What's the difference between a man and a t...   \n",
       "4   5    NaN       NaN  Q.\\tWhat's O. J. Simpson's Internet address? \\...   \n",
       "\n",
       "     Rating  \n",
       "0       NaN  \n",
       "1       NaN  \n",
       "2       NaN  \n",
       "3       NaN  \n",
       "4 -1.756331  "
      ]
     },
     "execution_count": 13,
     "metadata": {},
     "output_type": "execute_result"
    }
   ],
   "source": [
    "df = pd.read_csv(CSV_PATH)\n",
    "print(f'Dataset shape: {df.shape}')\n",
    "df.head()"
   ]
  },
  {
   "cell_type": "markdown",
   "id": "0e1a8c77",
   "metadata": {},
   "source": [
    "## 3. Train / Test split"
   ]
  },
  {
   "cell_type": "code",
   "execution_count": 16,
   "id": "2afa8670",
   "metadata": {},
   "outputs": [
    {
     "name": "stdout",
     "output_type": "stream",
     "text": [
      "Train size: 112, Test size: 28\n"
     ]
    }
   ],
   "source": [
    "X = df[TEXT_COL].fillna('')\n",
    "y = df[LABEL_COL]\n",
    "\n",
    "mask_labeled = y.notna()\n",
    "X_labeled, y_labeled = X[mask_labeled], y[mask_labeled]\n",
    "\n",
    "X_train, X_test, y_train, y_test = train_test_split(\n",
    "    X_labeled, y_labeled,\n",
    "    test_size=TEST_SIZE,\n",
    "    random_state=RANDOM_STATE,\n",
    ")\n",
    "print(f'Train size: {X_train.shape[0]}, Test size: {X_test.shape[0]}')"
   ]
  },
  {
   "cell_type": "markdown",
   "id": "bc359bd8",
   "metadata": {},
   "source": [
    "## 4. Build & fit Pipeline"
   ]
  },
  {
   "cell_type": "code",
   "execution_count": 20,
   "id": "cc73f1fe",
   "metadata": {},
   "outputs": [
    {
     "name": "stdout",
     "output_type": "stream",
     "text": [
      "RMSE = 2.3607549063920024\n"
     ]
    }
   ],
   "source": [
    "pipe = Pipeline([\n",
    "    (\"vect\", CountVectorizer(ngram_range=(NGRAM_LOW, NGRAM_HIGH))),\n",
    "    (\"reg\", Ridge(alpha=1.0))\n",
    "])\n",
    "\n",
    "pipe.fit(X_train, y_train)\n",
    "rmse = mean_squared_error(y_test, pipe.predict(X_test))\n",
    "print(\"RMSE =\", rmse)"
   ]
  },
  {
   "cell_type": "markdown",
   "id": "5e083c4a",
   "metadata": {},
   "source": [
    "## 6. Predict joke quality for texts without rating"
   ]
  },
  {
   "cell_type": "code",
   "execution_count": 28,
   "id": "fe33b91d",
   "metadata": {},
   "outputs": [
    {
     "name": "stdout",
     "output_type": "stream",
     "text": [
      "Toate rândurile au deja rating – nimic de completat.\n"
     ]
    }
   ],
   "source": [
    "# --- Predict joke quality for every row without rating ---------------------------------\n",
    "UNLABELED_MASK = df[LABEL_COL].isna()        \n",
    "\n",
    "if UNLABELED_MASK.any():\n",
    "    print(f\"{UNLABELED_MASK.sum()} glume nu au rating\")\n",
    "    preds = pipe.predict(df.loc[UNLABELED_MASK, TEXT_COL].fillna(\"\"))\n",
    "\n",
    "    df.loc[UNLABELED_MASK, LABEL_COL] = preds\n",
    "\n",
    "    OUTPUT = CSV_PATH.with_stem(CSV_PATH.stem + \"_scored\")\n",
    "    df.to_csv(OUTPUT, index=False)\n",
    "    print(f\"✔️  Ratingurile au fost adăugate. Fișier nou: {OUTPUT}\")\n",
    "else:\n",
    "    print(\"Toate rândurile au deja rating – nimic de completat.\")"
   ]
  }
 ],
 "metadata": {
  "kernelspec": {
   "display_name": "Python 3",
   "language": "python",
   "name": "python3"
  },
  "language_info": {
   "codemirror_mode": {
    "name": "ipython",
    "version": 3
   },
   "file_extension": ".py",
   "mimetype": "text/x-python",
   "name": "python",
   "nbconvert_exporter": "python",
   "pygments_lexer": "ipython3",
   "version": "3.11.11"
  }
 },
 "nbformat": 4,
 "nbformat_minor": 5
}
