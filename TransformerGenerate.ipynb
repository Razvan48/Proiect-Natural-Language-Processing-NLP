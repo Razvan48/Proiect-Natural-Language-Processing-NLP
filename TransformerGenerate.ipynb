{
  "nbformat": 4,
  "nbformat_minor": 0,
  "metadata": {
    "colab": {
      "provenance": [],
      "gpuType": "T4"
    },
    "kernelspec": {
      "name": "python3",
      "display_name": "Python 3"
    },
    "language_info": {
      "name": "python"
    },
    "accelerator": "GPU"
  },
  "cells": [
    {
      "cell_type": "code",
      "source": [
        "!pip install tensorflow\n",
        "!pip install keras"
      ],
      "metadata": {
        "colab": {
          "base_uri": "https://localhost:8080/"
        },
        "id": "ZbV-NTATrVLS",
        "outputId": "90a80269-8727-4ca1-b2f8-98383b37f778"
      },
      "execution_count": 114,
      "outputs": [
        {
          "output_type": "stream",
          "name": "stdout",
          "text": [
            "Requirement already satisfied: tensorflow in /usr/local/lib/python3.11/dist-packages (2.18.0)\n",
            "Requirement already satisfied: absl-py>=1.0.0 in /usr/local/lib/python3.11/dist-packages (from tensorflow) (1.4.0)\n",
            "Requirement already satisfied: astunparse>=1.6.0 in /usr/local/lib/python3.11/dist-packages (from tensorflow) (1.6.3)\n",
            "Requirement already satisfied: flatbuffers>=24.3.25 in /usr/local/lib/python3.11/dist-packages (from tensorflow) (25.2.10)\n",
            "Requirement already satisfied: gast!=0.5.0,!=0.5.1,!=0.5.2,>=0.2.1 in /usr/local/lib/python3.11/dist-packages (from tensorflow) (0.6.0)\n",
            "Requirement already satisfied: google-pasta>=0.1.1 in /usr/local/lib/python3.11/dist-packages (from tensorflow) (0.2.0)\n",
            "Requirement already satisfied: libclang>=13.0.0 in /usr/local/lib/python3.11/dist-packages (from tensorflow) (18.1.1)\n",
            "Requirement already satisfied: opt-einsum>=2.3.2 in /usr/local/lib/python3.11/dist-packages (from tensorflow) (3.4.0)\n",
            "Requirement already satisfied: packaging in /usr/local/lib/python3.11/dist-packages (from tensorflow) (24.2)\n",
            "Requirement already satisfied: protobuf!=4.21.0,!=4.21.1,!=4.21.2,!=4.21.3,!=4.21.4,!=4.21.5,<6.0.0dev,>=3.20.3 in /usr/local/lib/python3.11/dist-packages (from tensorflow) (5.29.4)\n",
            "Requirement already satisfied: requests<3,>=2.21.0 in /usr/local/lib/python3.11/dist-packages (from tensorflow) (2.32.3)\n",
            "Requirement already satisfied: setuptools in /usr/local/lib/python3.11/dist-packages (from tensorflow) (75.2.0)\n",
            "Requirement already satisfied: six>=1.12.0 in /usr/local/lib/python3.11/dist-packages (from tensorflow) (1.17.0)\n",
            "Requirement already satisfied: termcolor>=1.1.0 in /usr/local/lib/python3.11/dist-packages (from tensorflow) (3.1.0)\n",
            "Requirement already satisfied: typing-extensions>=3.6.6 in /usr/local/lib/python3.11/dist-packages (from tensorflow) (4.13.2)\n",
            "Requirement already satisfied: wrapt>=1.11.0 in /usr/local/lib/python3.11/dist-packages (from tensorflow) (1.17.2)\n",
            "Requirement already satisfied: grpcio<2.0,>=1.24.3 in /usr/local/lib/python3.11/dist-packages (from tensorflow) (1.71.0)\n",
            "Requirement already satisfied: tensorboard<2.19,>=2.18 in /usr/local/lib/python3.11/dist-packages (from tensorflow) (2.18.0)\n",
            "Requirement already satisfied: keras>=3.5.0 in /usr/local/lib/python3.11/dist-packages (from tensorflow) (3.8.0)\n",
            "Requirement already satisfied: numpy<2.1.0,>=1.26.0 in /usr/local/lib/python3.11/dist-packages (from tensorflow) (2.0.2)\n",
            "Requirement already satisfied: h5py>=3.11.0 in /usr/local/lib/python3.11/dist-packages (from tensorflow) (3.13.0)\n",
            "Requirement already satisfied: ml-dtypes<0.5.0,>=0.4.0 in /usr/local/lib/python3.11/dist-packages (from tensorflow) (0.4.1)\n",
            "Requirement already satisfied: tensorflow-io-gcs-filesystem>=0.23.1 in /usr/local/lib/python3.11/dist-packages (from tensorflow) (0.37.1)\n",
            "Requirement already satisfied: wheel<1.0,>=0.23.0 in /usr/local/lib/python3.11/dist-packages (from astunparse>=1.6.0->tensorflow) (0.45.1)\n",
            "Requirement already satisfied: rich in /usr/local/lib/python3.11/dist-packages (from keras>=3.5.0->tensorflow) (13.9.4)\n",
            "Requirement already satisfied: namex in /usr/local/lib/python3.11/dist-packages (from keras>=3.5.0->tensorflow) (0.0.9)\n",
            "Requirement already satisfied: optree in /usr/local/lib/python3.11/dist-packages (from keras>=3.5.0->tensorflow) (0.15.0)\n",
            "Requirement already satisfied: charset-normalizer<4,>=2 in /usr/local/lib/python3.11/dist-packages (from requests<3,>=2.21.0->tensorflow) (3.4.2)\n",
            "Requirement already satisfied: idna<4,>=2.5 in /usr/local/lib/python3.11/dist-packages (from requests<3,>=2.21.0->tensorflow) (3.10)\n",
            "Requirement already satisfied: urllib3<3,>=1.21.1 in /usr/local/lib/python3.11/dist-packages (from requests<3,>=2.21.0->tensorflow) (2.4.0)\n",
            "Requirement already satisfied: certifi>=2017.4.17 in /usr/local/lib/python3.11/dist-packages (from requests<3,>=2.21.0->tensorflow) (2025.4.26)\n",
            "Requirement already satisfied: markdown>=2.6.8 in /usr/local/lib/python3.11/dist-packages (from tensorboard<2.19,>=2.18->tensorflow) (3.8)\n",
            "Requirement already satisfied: tensorboard-data-server<0.8.0,>=0.7.0 in /usr/local/lib/python3.11/dist-packages (from tensorboard<2.19,>=2.18->tensorflow) (0.7.2)\n",
            "Requirement already satisfied: werkzeug>=1.0.1 in /usr/local/lib/python3.11/dist-packages (from tensorboard<2.19,>=2.18->tensorflow) (3.1.3)\n",
            "Requirement already satisfied: MarkupSafe>=2.1.1 in /usr/local/lib/python3.11/dist-packages (from werkzeug>=1.0.1->tensorboard<2.19,>=2.18->tensorflow) (3.0.2)\n",
            "Requirement already satisfied: markdown-it-py>=2.2.0 in /usr/local/lib/python3.11/dist-packages (from rich->keras>=3.5.0->tensorflow) (3.0.0)\n",
            "Requirement already satisfied: pygments<3.0.0,>=2.13.0 in /usr/local/lib/python3.11/dist-packages (from rich->keras>=3.5.0->tensorflow) (2.19.1)\n",
            "Requirement already satisfied: mdurl~=0.1 in /usr/local/lib/python3.11/dist-packages (from markdown-it-py>=2.2.0->rich->keras>=3.5.0->tensorflow) (0.1.2)\n",
            "Requirement already satisfied: keras in /usr/local/lib/python3.11/dist-packages (3.8.0)\n",
            "Requirement already satisfied: absl-py in /usr/local/lib/python3.11/dist-packages (from keras) (1.4.0)\n",
            "Requirement already satisfied: numpy in /usr/local/lib/python3.11/dist-packages (from keras) (2.0.2)\n",
            "Requirement already satisfied: rich in /usr/local/lib/python3.11/dist-packages (from keras) (13.9.4)\n",
            "Requirement already satisfied: namex in /usr/local/lib/python3.11/dist-packages (from keras) (0.0.9)\n",
            "Requirement already satisfied: h5py in /usr/local/lib/python3.11/dist-packages (from keras) (3.13.0)\n",
            "Requirement already satisfied: optree in /usr/local/lib/python3.11/dist-packages (from keras) (0.15.0)\n",
            "Requirement already satisfied: ml-dtypes in /usr/local/lib/python3.11/dist-packages (from keras) (0.4.1)\n",
            "Requirement already satisfied: packaging in /usr/local/lib/python3.11/dist-packages (from keras) (24.2)\n",
            "Requirement already satisfied: typing-extensions>=4.5.0 in /usr/local/lib/python3.11/dist-packages (from optree->keras) (4.13.2)\n",
            "Requirement already satisfied: markdown-it-py>=2.2.0 in /usr/local/lib/python3.11/dist-packages (from rich->keras) (3.0.0)\n",
            "Requirement already satisfied: pygments<3.0.0,>=2.13.0 in /usr/local/lib/python3.11/dist-packages (from rich->keras) (2.19.1)\n",
            "Requirement already satisfied: mdurl~=0.1 in /usr/local/lib/python3.11/dist-packages (from markdown-it-py>=2.2.0->rich->keras) (0.1.2)\n"
          ]
        }
      ]
    },
    {
      "cell_type": "code",
      "execution_count": 115,
      "metadata": {
        "id": "cSt0erWpqoWz"
      },
      "outputs": [],
      "source": [
        "import numpy as np\n",
        "import tensorflow as tf\n",
        "from tensorflow.keras import layers, Model, Input\n",
        "import matplotlib.pyplot as plt\n",
        "from sklearn.model_selection import train_test_split\n",
        "import pandas as pd\n",
        "import time\n",
        "from sklearn.preprocessing import MinMaxScaler\n",
        "\n",
        "dim_subsecventa = 34\n",
        "nr_encoders = 2\n",
        "dim_embedding = 128\n",
        "dim_feed_forward = 256\n",
        "\n",
        "def Positional_Encoding(dim_subsecventa, dim_embedding):\n",
        "    factori_scalare = np.array([1 / (10000 ** (2 * (pozitie_embedding // 2) / dim_embedding)) for pozitie_embedding in range(dim_embedding)])  # (1, dim_embedding)\n",
        "    pozitii_initiale = np.array([[p] for p in range(dim_subsecventa)])  # (dim_subsecventa, 1)\n",
        "\n",
        "    valori = pozitii_initiale * factori_scalare  # (dim_subsecventa, dim_embedding)\n",
        "    # token_ids au initial pozitiile 0, 1, 2, etc,\n",
        "    # pozitiile vor deveni arrays de dimensiune dim_embedding,\n",
        "    # fiecare element din embedding fiind pozitia initiala a esantionului * factor de scalare\n",
        "    rezultat = np.zeros((dim_subsecventa, dim_embedding))\n",
        "    rezultat[:, 0::2] = np.sin(valori[:, 0::2])\n",
        "    rezultat[:, 1::2] = np.cos(valori[:, 1::2])\n",
        "    return rezultat\n"
      ]
    },
    {
      "cell_type": "code",
      "source": [
        "def Self_Attention(layer_precedent, dim_embedding):\n",
        "    num_heads = 4\n",
        "    dim_head = dim_embedding // num_heads\n",
        "\n",
        "    # Q = ce informatie cauta un esantion de la altele, K = ce informatie detine fiecare, V = informatie deitnuta in detaliu\n",
        "    Q = layers.Dense(dim_embedding)(layer_precedent) # (batch, dim_subsecventa, dim_embedding)\n",
        "    print(Q.shape, \"q\")\n",
        "    # transofrmam datele din stratul precedent pentru a aprofunda informatia deja existenta\n",
        "    K = layers.Dense(dim_embedding)(layer_precedent)\n",
        "    V = layers.Dense(dim_embedding)(layer_precedent)\n",
        "\n",
        "    scoruri_atentie = layers.Lambda(lambda x: tf.matmul(x[0], x[1], transpose_b=True))([Q, K]) # (batch, dim_subsecventa, dim_subsecventa)\n",
        "    print(scoruri_atentie.shape, \"atentie\")\n",
        "    # deci fiecare esantion din secventa are un scor de atentie fata de restul\n",
        "    # prin Q * K.T fiecare esantion vede daca are ce obtine de la restul\n",
        "    ponderi_atentie = layers.Softmax(axis=-1)(scoruri_atentie)\n",
        "\n",
        "    # fiecare esantion primeste de la fiecare ce a cautat\n",
        "    rezultat = layers.Lambda(lambda x: tf.matmul(x[0], x[1]))([ponderi_atentie, V]) # (batch, dim_subsecventa, dim_embedding)\n",
        "    print(rezultat.shape, \"rezultat\")\n",
        "    return rezultat"
      ],
      "metadata": {
        "id": "U2_FsxWDqy8i"
      },
      "execution_count": 116,
      "outputs": []
    },
    {
      "cell_type": "code",
      "source": [
        "def Encoder(layer_precedent, dim_embedding, dim_feed_forward):\n",
        "    self_attention = Self_Attention(layer_precedent, dim_embedding)\n",
        "    self_attention += layer_precedent\n",
        "    self_attention = layers.LayerNormalization()(self_attention)\n",
        "\n",
        "    feed_forward = layers.Dense(dim_feed_forward, activation='relu')(self_attention)\n",
        "    # primul strat din ff mareste dimensiunea pentru a aprofunda informatia din self_attention, iar al doilea aduce dimensiunea la loc pentru a se potrivi cu dim_encoder\n",
        "    feed_forward = layers.Dense(dim_embedding)(feed_forward)\n",
        "\n",
        "    encoder = feed_forward + self_attention\n",
        "    encoder = layers.LayerNormalization()(encoder)\n",
        "    return encoder"
      ],
      "metadata": {
        "id": "lMh9Q5Lpq4iX"
      },
      "execution_count": 117,
      "outputs": []
    },
    {
      "cell_type": "code",
      "source": [
        "def Transformer(dim_subsecventa, dim_embedding, dim_vocab, nr_encoders, dim_feed_forward):\n",
        "    tensor_intrare = Input(shape=(dim_subsecventa,))\n",
        "    layer_embedding = layers.Embedding(dim_vocab, dim_embedding)(tensor_intrare)\n",
        "    pos_encoding = Positional_Encoding(dim_subsecventa, dim_embedding)\n",
        "\n",
        "    tensor_pos_encoding = tf.convert_to_tensor(pos_encoding, dtype=tf.float32)\n",
        "    # adaugam inca o dimensiune la tensor pt a sti din ce batch face parte\n",
        "    tensor_pos_encoding = tf.expand_dims(tensor_pos_encoding, axis=0)\n",
        "    layer_pos_encoding = layer_embedding + tensor_pos_encoding\n",
        "\n",
        "    layers_encoder = layer_pos_encoding\n",
        "    for _ in range(nr_encoders):\n",
        "        layers_encoder = Encoder(layers_encoder, dim_embedding, dim_feed_forward)\n",
        "    # layers encoder are acum dim (batch, dim_subsecventa, dim_embedding)\n",
        "\n",
        "    # obtinem informatie despre fiecare subsecventa\n",
        "    layer_medie_pe_subsecvente = layers.GlobalAveragePooling1D()(layers_encoder) # (batch, dim_embedding)\n",
        "    # un strat Dense care produce prob\n",
        "    # activare softmax pt probabilitati\n",
        "    layer_final = layers.Dense(dim_vocab, activation='softmax')(layer_medie_pe_subsecvente) # (batch, dim_vocab)\n",
        "\n",
        "    return Model(tensor_intrare, layer_final)"
      ],
      "metadata": {
        "id": "Jr3MdYxTrA5o"
      },
      "execution_count": 118,
      "outputs": []
    },
    {
      "cell_type": "code",
      "source": [
        "csv_file = pd.read_csv('/content/sample_data/train.csv')\n",
        "\n",
        "NUM_JOKES = 50000\n",
        "\n",
        "csv_file['joke'] = csv_file['question'] + ' <sep> ' + csv_file['response']\n",
        "jokes = csv_file['joke'].astype(str).tolist()\n",
        "jokes = jokes[:NUM_JOKES]\n",
        "#print(jokes)\n"
      ],
      "metadata": {
        "id": "h9Ai98kErlGw"
      },
      "execution_count": 119,
      "outputs": []
    },
    {
      "cell_type": "code",
      "source": [
        "from tensorflow.keras.preprocessing.text import Tokenizer\n",
        "from tensorflow.keras.preprocessing.sequence import pad_sequences\n",
        "\n",
        "tokenizer = Tokenizer(oov_token=\"<OOV>\")\n",
        "tokenizer.fit_on_texts(jokes)\n",
        "\n",
        "secvente = tokenizer.texts_to_sequences(jokes)\n",
        "secvente = pad_sequences(secvente, maxlen=dim_subsecventa, padding='post', truncating='post')\n",
        "print(secvente)\n",
        "# pt fiecare secveta va trb sa ghiceasca urmatorul cuvant"
      ],
      "metadata": {
        "id": "4RqUEd5StnQx",
        "colab": {
          "base_uri": "https://localhost:8080/"
        },
        "outputId": "4313fb1b-07c5-43f0-be27-4d99119254f7"
      },
      "execution_count": 120,
      "outputs": [
        {
          "output_type": "stream",
          "name": "stdout",
          "text": [
            "[[   5   70    7 ...    0    0    0]\n",
            " [ 307 7367   54 ...    0    0    0]\n",
            " [2901 2752 2446 ...    0    0    0]\n",
            " ...\n",
            " [  17   83    4 ...    0    0    0]\n",
            " [  34  217   25 ...    0    0    0]\n",
            " [  17   19    9 ...    0    0    0]]\n"
          ]
        }
      ]
    },
    {
      "cell_type": "code",
      "source": [
        "X = []\n",
        "y = []\n",
        "\n",
        "for sec in secvente:\n",
        "    for i in range(1, len(sec)):\n",
        "        X.append(sec[:i])\n",
        "        y.append(sec[i])\n",
        "\n",
        "X = pad_sequences(X, maxlen=dim_subsecventa, padding='pre')\n",
        "y = np.array(y)\n",
        "print(X)"
      ],
      "metadata": {
        "id": "rxAFLAWhv_SA",
        "colab": {
          "base_uri": "https://localhost:8080/"
        },
        "outputId": "9834af37-c6e6-45a1-cfec-e1f8fb6fe774"
      },
      "execution_count": 121,
      "outputs": [
        {
          "output_type": "stream",
          "name": "stdout",
          "text": [
            "[[ 0  0  0 ...  0  0  5]\n",
            " [ 0  0  0 ...  0  5 70]\n",
            " [ 0  0  0 ...  5 70  7]\n",
            " ...\n",
            " [ 0  0  0 ...  0  0  0]\n",
            " [ 0  0 17 ...  0  0  0]\n",
            " [ 0 17 19 ...  0  0  0]]\n"
          ]
        }
      ]
    },
    {
      "cell_type": "code",
      "source": [
        "dim_vocab = len(tokenizer.word_index) + 1\n",
        "model = Transformer(dim_subsecventa, dim_embedding, dim_vocab, nr_encoders, dim_feed_forward)\n",
        "model.compile(optimizer='adam', loss='sparse_categorical_crossentropy', metrics=['accuracy'])\n",
        "model.fit(X, y, batch_size=64, epochs=10, validation_split=0.1)"
      ],
      "metadata": {
        "colab": {
          "base_uri": "https://localhost:8080/"
        },
        "id": "dPX0iA5Zxs-e",
        "outputId": "e41dede0-3b09-49a4-cb11-000cd09b2a0d"
      },
      "execution_count": 122,
      "outputs": [
        {
          "output_type": "stream",
          "name": "stdout",
          "text": [
            "(None, 34, 128) q\n",
            "(None, 34, 34) atentie\n",
            "(None, 34, 128) rezultat\n",
            "(None, 34, 128) q\n",
            "(None, 34, 34) atentie\n",
            "(None, 34, 128) rezultat\n",
            "Epoch 1/10\n",
            "\u001b[1m9282/9282\u001b[0m \u001b[32m━━━━━━━━━━━━━━━━━━━━\u001b[0m\u001b[37m\u001b[0m \u001b[1m87s\u001b[0m 8ms/step - accuracy: 0.4447 - loss: 4.1956 - val_accuracy: 0.4938 - val_loss: 3.5950\n",
            "Epoch 2/10\n",
            "\u001b[1m9282/9282\u001b[0m \u001b[32m━━━━━━━━━━━━━━━━━━━━\u001b[0m\u001b[37m\u001b[0m \u001b[1m68s\u001b[0m 7ms/step - accuracy: 0.4930 - loss: 3.4843 - val_accuracy: 0.5058 - val_loss: 3.4691\n",
            "Epoch 3/10\n",
            "\u001b[1m9282/9282\u001b[0m \u001b[32m━━━━━━━━━━━━━━━━━━━━\u001b[0m\u001b[37m\u001b[0m \u001b[1m82s\u001b[0m 7ms/step - accuracy: 0.5032 - loss: 3.2989 - val_accuracy: 0.5077 - val_loss: 3.4411\n",
            "Epoch 4/10\n",
            "\u001b[1m9282/9282\u001b[0m \u001b[32m━━━━━━━━━━━━━━━━━━━━\u001b[0m\u001b[37m\u001b[0m \u001b[1m65s\u001b[0m 7ms/step - accuracy: 0.5086 - loss: 3.2085 - val_accuracy: 0.5142 - val_loss: 3.3769\n",
            "Epoch 5/10\n",
            "\u001b[1m9282/9282\u001b[0m \u001b[32m━━━━━━━━━━━━━━━━━━━━\u001b[0m\u001b[37m\u001b[0m \u001b[1m82s\u001b[0m 7ms/step - accuracy: 0.5121 - loss: 3.1423 - val_accuracy: 0.5168 - val_loss: 3.3577\n",
            "Epoch 6/10\n",
            "\u001b[1m9282/9282\u001b[0m \u001b[32m━━━━━━━━━━━━━━━━━━━━\u001b[0m\u001b[37m\u001b[0m \u001b[1m84s\u001b[0m 7ms/step - accuracy: 0.5187 - loss: 3.0609 - val_accuracy: 0.5193 - val_loss: 3.3432\n",
            "Epoch 7/10\n",
            "\u001b[1m9282/9282\u001b[0m \u001b[32m━━━━━━━━━━━━━━━━━━━━\u001b[0m\u001b[37m\u001b[0m \u001b[1m67s\u001b[0m 7ms/step - accuracy: 0.5189 - loss: 3.0352 - val_accuracy: 0.5203 - val_loss: 3.3435\n",
            "Epoch 8/10\n",
            "\u001b[1m9282/9282\u001b[0m \u001b[32m━━━━━━━━━━━━━━━━━━━━\u001b[0m\u001b[37m\u001b[0m \u001b[1m65s\u001b[0m 7ms/step - accuracy: 0.5238 - loss: 2.9724 - val_accuracy: 0.5198 - val_loss: 3.3460\n",
            "Epoch 9/10\n",
            "\u001b[1m9282/9282\u001b[0m \u001b[32m━━━━━━━━━━━━━━━━━━━━\u001b[0m\u001b[37m\u001b[0m \u001b[1m82s\u001b[0m 7ms/step - accuracy: 0.5254 - loss: 2.9364 - val_accuracy: 0.5233 - val_loss: 3.3446\n",
            "Epoch 10/10\n",
            "\u001b[1m9282/9282\u001b[0m \u001b[32m━━━━━━━━━━━━━━━━━━━━\u001b[0m\u001b[37m\u001b[0m \u001b[1m67s\u001b[0m 7ms/step - accuracy: 0.5268 - loss: 2.8965 - val_accuracy: 0.5227 - val_loss: 3.3520\n"
          ]
        },
        {
          "output_type": "execute_result",
          "data": {
            "text/plain": [
              "<keras.src.callbacks.history.History at 0x7bc1c9f24d90>"
            ]
          },
          "metadata": {},
          "execution_count": 122
        }
      ]
    },
    {
      "cell_type": "code",
      "source": [
        "\n",
        "def genereaza_gluma(model, tokenizer, dim_subsecventa, inceput, dim_maxima_gluma, cuvinte_enervante, temperature):\n",
        "    secventa = tokenizer.texts_to_sequences([inceput])\n",
        "    secventa = pad_sequences(secventa, maxlen=dim_subsecventa, padding='pre')\n",
        "\n",
        "    generated_text = inceput\n",
        "    cuvinte_generate = set(inceput.lower().split())\n",
        "\n",
        "    for _ in range(dim_maxima_gluma):\n",
        "        predictie = model.predict(secventa, verbose=0)[0]\n",
        "\n",
        "        predictie = np.asarray(predictie).astype('float64')\n",
        "        predictie = np.log(predictie + 1e-8) / temperature\n",
        "        exp_preds = np.exp(predictie)\n",
        "        predictie = exp_preds / np.sum(exp_preds)\n",
        "\n",
        "        index_ales = np.random.choice(len(predictie), p=predictie)\n",
        "        token_ales = tokenizer.index_word.get(index_ales, '')\n",
        "\n",
        "        retry_count = 0\n",
        "        while (token_ales in cuvinte_enervante or token_ales in cuvinte_generate or token_ales == '') and retry_count < 10:\n",
        "            index_ales = np.random.choice(len(predictie), p=predictie)\n",
        "            token_ales = tokenizer.index_word.get(index_ales, '')\n",
        "            retry_count += 1\n",
        "\n",
        "        if token_ales == '':\n",
        "            break\n",
        "\n",
        "        if token_ales == 'sep':\n",
        "          token_ales = '......'\n",
        "\n",
        "        generated_text += ' ' + token_ales\n",
        "        cuvinte_generate.add(token_ales)\n",
        "        secventa = tf.concat([secventa[:, 1:], tf.constant([[index_ales]])], axis=1)\n",
        "\n",
        "    return generated_text\n"
      ],
      "metadata": {
        "id": "YIbX6vHC1LYw"
      },
      "execution_count": 123,
      "outputs": []
    },
    {
      "cell_type": "code",
      "source": [
        "cuvinte_de_evitat = {'joke', 'idea', 'of', 'chicken', 'little'}\n",
        "inceput = 'What is the difference between'\n",
        "temperature = 0.3\n",
        "gluma_generata = genereaza_gluma(model, tokenizer, dim_subsecventa, inceput, 80, cuvinte_de_evitat, temperature)\n",
        "print(gluma_generata)\n",
        "\n"
      ],
      "metadata": {
        "colab": {
          "base_uri": "https://localhost:8080/"
        },
        "id": "B_x-_Wjo1pSa",
        "outputId": "de12348d-eea0-48e9-e8dc-ed4da04db7e0"
      },
      "execution_count": 147,
      "outputs": [
        {
          "output_type": "stream",
          "name": "stdout",
          "text": [
            "What is the difference between a car and a poorly dressed man with a bicycle ...... i said it's not a fan\n"
          ]
        }
      ]
    },
    {
      "cell_type": "markdown",
      "source": [
        "jokes generated:\n",
        "\n",
        "**My cat** is a sandwich ...... because they have been a big plus\n",
        "\n",
        "**Knock kncok** who's there ...... it was a minute and the other day\n",
        "\n",
        "**Knock kncok** who's there ...... a stick\n",
        "\n",
        "**My friend** was talking about a sign language ...... the other day\n",
        "\n",
        "\n"
      ],
      "metadata": {
        "id": "xbq3jivGM7cn"
      }
    }
  ]
}