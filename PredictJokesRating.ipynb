{
  "nbformat": 4,
  "nbformat_minor": 0,
  "metadata": {
    "colab": {
      "provenance": [],
      "gpuType": "T4"
    },
    "kernelspec": {
      "name": "python3",
      "display_name": "Python 3"
    },
    "language_info": {
      "name": "python"
    },
    "accelerator": "GPU"
  },
  "cells": [
    {
      "cell_type": "code",
      "execution_count": 2,
      "metadata": {
        "id": "clcS9iHjEc8A"
      },
      "outputs": [],
      "source": [
        "from google.colab import drive\n",
        "import pandas as pd\n",
        "import re\n",
        "from sklearn.model_selection import train_test_split\n",
        "from sklearn.feature_extraction.text import CountVectorizer\n",
        "import torch\n",
        "from torch.utils.data import Dataset, DataLoader\n",
        "import torch.nn as nn\n",
        "import torch.nn.functional as F\n",
        "import torch.optim as optim\n",
        "import matplotlib.pyplot as plt\n",
        "import numpy as np\n",
        "from sklearn.preprocessing import StandardScaler, MinMaxScaler, MaxAbsScaler\n",
        "import torch.optim.lr_scheduler as lr_scheduler\n",
        "from sklearn.metrics import confusion_matrix\n",
        "import seaborn as sns\n",
        "from sklearn.metrics import precision_recall_fscore_support\n",
        "from sklearn.feature_extraction.text import TfidfVectorizer\n",
        "from sklearn.metrics import precision_recall_curve\n",
        "\n",
        "import spacy"
      ]
    },
    {
      "cell_type": "code",
      "source": [
        "!python -m spacy download en_core_web_md"
      ],
      "metadata": {
        "colab": {
          "base_uri": "https://localhost:8080/"
        },
        "id": "n32EiAdaHoBC",
        "outputId": "98f03b3c-e718-46c6-f046-1a63b28982a0"
      },
      "execution_count": 3,
      "outputs": [
        {
          "output_type": "stream",
          "name": "stdout",
          "text": [
            "Collecting en-core-web-md==3.8.0\n",
            "  Downloading https://github.com/explosion/spacy-models/releases/download/en_core_web_md-3.8.0/en_core_web_md-3.8.0-py3-none-any.whl (33.5 MB)\n",
            "\u001b[2K     \u001b[90m━━━━━━━━━━━━━━━━━━━━━━━━━━━━━━━━━━━━━━━━\u001b[0m \u001b[32m33.5/33.5 MB\u001b[0m \u001b[31m59.1 MB/s\u001b[0m eta \u001b[36m0:00:00\u001b[0m\n",
            "\u001b[?25h\u001b[38;5;2m✔ Download and installation successful\u001b[0m\n",
            "You can now load the package via spacy.load('en_core_web_md')\n",
            "\u001b[38;5;3m⚠ Restart to reload dependencies\u001b[0m\n",
            "If you are in a Jupyter or Colab notebook, you may need to restart Python in\n",
            "order to load all the package's dependencies. You can do this by selecting the\n",
            "'Restart kernel' or 'Restart runtime' option.\n"
          ]
        }
      ]
    },
    {
      "cell_type": "code",
      "source": [
        "drive.mount('/content/drive', force_remount=True)"
      ],
      "metadata": {
        "colab": {
          "base_uri": "https://localhost:8080/"
        },
        "id": "KQDP5HarErOT",
        "outputId": "601ee524-f2f7-46f3-e705-844b906282fe"
      },
      "execution_count": 4,
      "outputs": [
        {
          "output_type": "stream",
          "name": "stdout",
          "text": [
            "Mounted at /content/drive\n"
          ]
        }
      ]
    },
    {
      "cell_type": "code",
      "source": [
        "# Positive Examples (Keep only entries where the Rating column is not null)\n",
        "\n",
        "normalized_jester_df = pd.read_csv('/content/drive/MyDrive/Proiect NLP/Preprocessed-Datasets/Positive-Examples/jester/normalized_jester.csv')\n",
        "normalized_reddit_jokes_df = pd.read_csv('/content/drive/MyDrive/Proiect NLP/Preprocessed-Datasets/Positive-Examples/joke-dataset/normalized_reddit_jokes.csv')\n",
        "normalized_stupidstuff_df = pd.read_csv('/content/drive/MyDrive/Proiect NLP/Preprocessed-Datasets/Positive-Examples/joke-dataset/normalized_stupidstuff.csv')\n",
        "\n",
        "normalized_jester_df = normalized_jester_df[normalized_jester_df['Rating'].notna()]\n",
        "normalized_reddit_jokes_df = normalized_reddit_jokes_df[normalized_reddit_jokes_df['Rating'].notna()]\n",
        "normalized_stupidstuff_df = normalized_stupidstuff_df[normalized_stupidstuff_df['Rating'].notna()]\n",
        "\n",
        "# Negative Examples (All of them, put 0 in the Rating column)\n",
        "\n",
        "news_category_dataset_df = pd.read_csv('/content/drive/MyDrive/Proiect NLP/Preprocessed-Datasets/Negative-Examples/News_Category_Dataset_v3/News_Category_Dataset_v3.csv')\n",
        "news_category_dataset_df['Rating'] = news_category_dataset_df['Rating'].fillna(0.0)\n",
        "\n",
        "combined_df = pd.concat([normalized_jester_df, normalized_reddit_jokes_df, normalized_stupidstuff_df, news_category_dataset_df], ignore_index=True)"
      ],
      "metadata": {
        "id": "KSRRU9QjE7Oz"
      },
      "execution_count": 5,
      "outputs": []
    },
    {
      "cell_type": "code",
      "source": [
        "combined_df.head()"
      ],
      "metadata": {
        "colab": {
          "base_uri": "https://localhost:8080/",
          "height": 206
        },
        "id": "v0TtnQwrK17b",
        "outputId": "2252f361-26a4-45fc-9484-0e4ea1b6f26c"
      },
      "execution_count": 6,
      "outputs": [
        {
          "output_type": "execute_result",
          "data": {
            "text/plain": [
              "   ID Title Category                                               Body  \\\n",
              "0   5   NaN      NaN  Q.\\tWhat's O. J. Simpson's Internet address? \\...   \n",
              "1   7   NaN      NaN  How many feminists does it take to screw in a ...   \n",
              "2   8   NaN      NaN  Q. Did you hear about the dyslexic devil worsh...   \n",
              "3  13   NaN      NaN  They asked the Japanese visitor if they have e...   \n",
              "4  15   NaN      NaN  Q:  What did the blind person say when given s...   \n",
              "\n",
              "     Rating  \n",
              "0  0.153659  \n",
              "1  0.145475  \n",
              "2  0.321407  \n",
              "3  0.334060  \n",
              "4  0.212328  "
            ],
            "text/html": [
              "\n",
              "  <div id=\"df-8dac63ad-c8b9-4edb-98ef-422a5aa07f61\" class=\"colab-df-container\">\n",
              "    <div>\n",
              "<style scoped>\n",
              "    .dataframe tbody tr th:only-of-type {\n",
              "        vertical-align: middle;\n",
              "    }\n",
              "\n",
              "    .dataframe tbody tr th {\n",
              "        vertical-align: top;\n",
              "    }\n",
              "\n",
              "    .dataframe thead th {\n",
              "        text-align: right;\n",
              "    }\n",
              "</style>\n",
              "<table border=\"1\" class=\"dataframe\">\n",
              "  <thead>\n",
              "    <tr style=\"text-align: right;\">\n",
              "      <th></th>\n",
              "      <th>ID</th>\n",
              "      <th>Title</th>\n",
              "      <th>Category</th>\n",
              "      <th>Body</th>\n",
              "      <th>Rating</th>\n",
              "    </tr>\n",
              "  </thead>\n",
              "  <tbody>\n",
              "    <tr>\n",
              "      <th>0</th>\n",
              "      <td>5</td>\n",
              "      <td>NaN</td>\n",
              "      <td>NaN</td>\n",
              "      <td>Q.\\tWhat's O. J. Simpson's Internet address? \\...</td>\n",
              "      <td>0.153659</td>\n",
              "    </tr>\n",
              "    <tr>\n",
              "      <th>1</th>\n",
              "      <td>7</td>\n",
              "      <td>NaN</td>\n",
              "      <td>NaN</td>\n",
              "      <td>How many feminists does it take to screw in a ...</td>\n",
              "      <td>0.145475</td>\n",
              "    </tr>\n",
              "    <tr>\n",
              "      <th>2</th>\n",
              "      <td>8</td>\n",
              "      <td>NaN</td>\n",
              "      <td>NaN</td>\n",
              "      <td>Q. Did you hear about the dyslexic devil worsh...</td>\n",
              "      <td>0.321407</td>\n",
              "    </tr>\n",
              "    <tr>\n",
              "      <th>3</th>\n",
              "      <td>13</td>\n",
              "      <td>NaN</td>\n",
              "      <td>NaN</td>\n",
              "      <td>They asked the Japanese visitor if they have e...</td>\n",
              "      <td>0.334060</td>\n",
              "    </tr>\n",
              "    <tr>\n",
              "      <th>4</th>\n",
              "      <td>15</td>\n",
              "      <td>NaN</td>\n",
              "      <td>NaN</td>\n",
              "      <td>Q:  What did the blind person say when given s...</td>\n",
              "      <td>0.212328</td>\n",
              "    </tr>\n",
              "  </tbody>\n",
              "</table>\n",
              "</div>\n",
              "    <div class=\"colab-df-buttons\">\n",
              "\n",
              "  <div class=\"colab-df-container\">\n",
              "    <button class=\"colab-df-convert\" onclick=\"convertToInteractive('df-8dac63ad-c8b9-4edb-98ef-422a5aa07f61')\"\n",
              "            title=\"Convert this dataframe to an interactive table.\"\n",
              "            style=\"display:none;\">\n",
              "\n",
              "  <svg xmlns=\"http://www.w3.org/2000/svg\" height=\"24px\" viewBox=\"0 -960 960 960\">\n",
              "    <path d=\"M120-120v-720h720v720H120Zm60-500h600v-160H180v160Zm220 220h160v-160H400v160Zm0 220h160v-160H400v160ZM180-400h160v-160H180v160Zm440 0h160v-160H620v160ZM180-180h160v-160H180v160Zm440 0h160v-160H620v160Z\"/>\n",
              "  </svg>\n",
              "    </button>\n",
              "\n",
              "  <style>\n",
              "    .colab-df-container {\n",
              "      display:flex;\n",
              "      gap: 12px;\n",
              "    }\n",
              "\n",
              "    .colab-df-convert {\n",
              "      background-color: #E8F0FE;\n",
              "      border: none;\n",
              "      border-radius: 50%;\n",
              "      cursor: pointer;\n",
              "      display: none;\n",
              "      fill: #1967D2;\n",
              "      height: 32px;\n",
              "      padding: 0 0 0 0;\n",
              "      width: 32px;\n",
              "    }\n",
              "\n",
              "    .colab-df-convert:hover {\n",
              "      background-color: #E2EBFA;\n",
              "      box-shadow: 0px 1px 2px rgba(60, 64, 67, 0.3), 0px 1px 3px 1px rgba(60, 64, 67, 0.15);\n",
              "      fill: #174EA6;\n",
              "    }\n",
              "\n",
              "    .colab-df-buttons div {\n",
              "      margin-bottom: 4px;\n",
              "    }\n",
              "\n",
              "    [theme=dark] .colab-df-convert {\n",
              "      background-color: #3B4455;\n",
              "      fill: #D2E3FC;\n",
              "    }\n",
              "\n",
              "    [theme=dark] .colab-df-convert:hover {\n",
              "      background-color: #434B5C;\n",
              "      box-shadow: 0px 1px 3px 1px rgba(0, 0, 0, 0.15);\n",
              "      filter: drop-shadow(0px 1px 2px rgba(0, 0, 0, 0.3));\n",
              "      fill: #FFFFFF;\n",
              "    }\n",
              "  </style>\n",
              "\n",
              "    <script>\n",
              "      const buttonEl =\n",
              "        document.querySelector('#df-8dac63ad-c8b9-4edb-98ef-422a5aa07f61 button.colab-df-convert');\n",
              "      buttonEl.style.display =\n",
              "        google.colab.kernel.accessAllowed ? 'block' : 'none';\n",
              "\n",
              "      async function convertToInteractive(key) {\n",
              "        const element = document.querySelector('#df-8dac63ad-c8b9-4edb-98ef-422a5aa07f61');\n",
              "        const dataTable =\n",
              "          await google.colab.kernel.invokeFunction('convertToInteractive',\n",
              "                                                    [key], {});\n",
              "        if (!dataTable) return;\n",
              "\n",
              "        const docLinkHtml = 'Like what you see? Visit the ' +\n",
              "          '<a target=\"_blank\" href=https://colab.research.google.com/notebooks/data_table.ipynb>data table notebook</a>'\n",
              "          + ' to learn more about interactive tables.';\n",
              "        element.innerHTML = '';\n",
              "        dataTable['output_type'] = 'display_data';\n",
              "        await google.colab.output.renderOutput(dataTable, element);\n",
              "        const docLink = document.createElement('div');\n",
              "        docLink.innerHTML = docLinkHtml;\n",
              "        element.appendChild(docLink);\n",
              "      }\n",
              "    </script>\n",
              "  </div>\n",
              "\n",
              "\n",
              "    <div id=\"df-228f6ef1-8bbe-44f8-a07e-2fc9a8062df1\">\n",
              "      <button class=\"colab-df-quickchart\" onclick=\"quickchart('df-228f6ef1-8bbe-44f8-a07e-2fc9a8062df1')\"\n",
              "                title=\"Suggest charts\"\n",
              "                style=\"display:none;\">\n",
              "\n",
              "<svg xmlns=\"http://www.w3.org/2000/svg\" height=\"24px\"viewBox=\"0 0 24 24\"\n",
              "     width=\"24px\">\n",
              "    <g>\n",
              "        <path d=\"M19 3H5c-1.1 0-2 .9-2 2v14c0 1.1.9 2 2 2h14c1.1 0 2-.9 2-2V5c0-1.1-.9-2-2-2zM9 17H7v-7h2v7zm4 0h-2V7h2v10zm4 0h-2v-4h2v4z\"/>\n",
              "    </g>\n",
              "</svg>\n",
              "      </button>\n",
              "\n",
              "<style>\n",
              "  .colab-df-quickchart {\n",
              "      --bg-color: #E8F0FE;\n",
              "      --fill-color: #1967D2;\n",
              "      --hover-bg-color: #E2EBFA;\n",
              "      --hover-fill-color: #174EA6;\n",
              "      --disabled-fill-color: #AAA;\n",
              "      --disabled-bg-color: #DDD;\n",
              "  }\n",
              "\n",
              "  [theme=dark] .colab-df-quickchart {\n",
              "      --bg-color: #3B4455;\n",
              "      --fill-color: #D2E3FC;\n",
              "      --hover-bg-color: #434B5C;\n",
              "      --hover-fill-color: #FFFFFF;\n",
              "      --disabled-bg-color: #3B4455;\n",
              "      --disabled-fill-color: #666;\n",
              "  }\n",
              "\n",
              "  .colab-df-quickchart {\n",
              "    background-color: var(--bg-color);\n",
              "    border: none;\n",
              "    border-radius: 50%;\n",
              "    cursor: pointer;\n",
              "    display: none;\n",
              "    fill: var(--fill-color);\n",
              "    height: 32px;\n",
              "    padding: 0;\n",
              "    width: 32px;\n",
              "  }\n",
              "\n",
              "  .colab-df-quickchart:hover {\n",
              "    background-color: var(--hover-bg-color);\n",
              "    box-shadow: 0 1px 2px rgba(60, 64, 67, 0.3), 0 1px 3px 1px rgba(60, 64, 67, 0.15);\n",
              "    fill: var(--button-hover-fill-color);\n",
              "  }\n",
              "\n",
              "  .colab-df-quickchart-complete:disabled,\n",
              "  .colab-df-quickchart-complete:disabled:hover {\n",
              "    background-color: var(--disabled-bg-color);\n",
              "    fill: var(--disabled-fill-color);\n",
              "    box-shadow: none;\n",
              "  }\n",
              "\n",
              "  .colab-df-spinner {\n",
              "    border: 2px solid var(--fill-color);\n",
              "    border-color: transparent;\n",
              "    border-bottom-color: var(--fill-color);\n",
              "    animation:\n",
              "      spin 1s steps(1) infinite;\n",
              "  }\n",
              "\n",
              "  @keyframes spin {\n",
              "    0% {\n",
              "      border-color: transparent;\n",
              "      border-bottom-color: var(--fill-color);\n",
              "      border-left-color: var(--fill-color);\n",
              "    }\n",
              "    20% {\n",
              "      border-color: transparent;\n",
              "      border-left-color: var(--fill-color);\n",
              "      border-top-color: var(--fill-color);\n",
              "    }\n",
              "    30% {\n",
              "      border-color: transparent;\n",
              "      border-left-color: var(--fill-color);\n",
              "      border-top-color: var(--fill-color);\n",
              "      border-right-color: var(--fill-color);\n",
              "    }\n",
              "    40% {\n",
              "      border-color: transparent;\n",
              "      border-right-color: var(--fill-color);\n",
              "      border-top-color: var(--fill-color);\n",
              "    }\n",
              "    60% {\n",
              "      border-color: transparent;\n",
              "      border-right-color: var(--fill-color);\n",
              "    }\n",
              "    80% {\n",
              "      border-color: transparent;\n",
              "      border-right-color: var(--fill-color);\n",
              "      border-bottom-color: var(--fill-color);\n",
              "    }\n",
              "    90% {\n",
              "      border-color: transparent;\n",
              "      border-bottom-color: var(--fill-color);\n",
              "    }\n",
              "  }\n",
              "</style>\n",
              "\n",
              "      <script>\n",
              "        async function quickchart(key) {\n",
              "          const quickchartButtonEl =\n",
              "            document.querySelector('#' + key + ' button');\n",
              "          quickchartButtonEl.disabled = true;  // To prevent multiple clicks.\n",
              "          quickchartButtonEl.classList.add('colab-df-spinner');\n",
              "          try {\n",
              "            const charts = await google.colab.kernel.invokeFunction(\n",
              "                'suggestCharts', [key], {});\n",
              "          } catch (error) {\n",
              "            console.error('Error during call to suggestCharts:', error);\n",
              "          }\n",
              "          quickchartButtonEl.classList.remove('colab-df-spinner');\n",
              "          quickchartButtonEl.classList.add('colab-df-quickchart-complete');\n",
              "        }\n",
              "        (() => {\n",
              "          let quickchartButtonEl =\n",
              "            document.querySelector('#df-228f6ef1-8bbe-44f8-a07e-2fc9a8062df1 button');\n",
              "          quickchartButtonEl.style.display =\n",
              "            google.colab.kernel.accessAllowed ? 'block' : 'none';\n",
              "        })();\n",
              "      </script>\n",
              "    </div>\n",
              "\n",
              "    </div>\n",
              "  </div>\n"
            ],
            "application/vnd.google.colaboratory.intrinsic+json": {
              "type": "dataframe",
              "variable_name": "combined_df"
            }
          },
          "metadata": {},
          "execution_count": 6
        }
      ]
    },
    {
      "cell_type": "code",
      "source": [
        "def preprocessed_sample(sample):\n",
        "  sample = str(sample)\n",
        "  sample = re.sub(r'[^a-zA-Z0-9\\s]', '', sample) # Only letters (lowercase and uppercase) + digits\n",
        "  sample = sample.lower() # Everything lowercase\n",
        "  sample = re.sub(r'\\d+', 'NUMBER', sample) # Replace all numerical values with a common label.\n",
        "  return sample\n",
        "\n",
        "combined_df['Body'] = combined_df['Body'].apply(preprocessed_sample)"
      ],
      "metadata": {
        "id": "mlRoPVMeJ8ss"
      },
      "execution_count": 7,
      "outputs": []
    },
    {
      "cell_type": "code",
      "source": [
        "combined_df.head()"
      ],
      "metadata": {
        "colab": {
          "base_uri": "https://localhost:8080/",
          "height": 206
        },
        "id": "MBI6UjwVLIyR",
        "outputId": "df6fd96a-dbed-44c6-a183-d9655c0047c8"
      },
      "execution_count": 7,
      "outputs": [
        {
          "output_type": "execute_result",
          "data": {
            "text/plain": [
              "   ID Title Category                                               Body  \\\n",
              "0   5   NaN      NaN  q\\twhats o j simpsons internet address \\r\\na\\t...   \n",
              "1   7   NaN      NaN  how many feminists does it take to screw in a ...   \n",
              "2   8   NaN      NaN  q did you hear about the dyslexic devil worshi...   \n",
              "3  13   NaN      NaN  they asked the japanese visitor if they have e...   \n",
              "4  15   NaN      NaN  q  what did the blind person say when given so...   \n",
              "\n",
              "     Rating  \n",
              "0  0.153659  \n",
              "1  0.145475  \n",
              "2  0.321407  \n",
              "3  0.334060  \n",
              "4  0.212328  "
            ],
            "text/html": [
              "\n",
              "  <div id=\"df-1fcf7707-4a3e-4908-90cc-c3dce68bebe2\" class=\"colab-df-container\">\n",
              "    <div>\n",
              "<style scoped>\n",
              "    .dataframe tbody tr th:only-of-type {\n",
              "        vertical-align: middle;\n",
              "    }\n",
              "\n",
              "    .dataframe tbody tr th {\n",
              "        vertical-align: top;\n",
              "    }\n",
              "\n",
              "    .dataframe thead th {\n",
              "        text-align: right;\n",
              "    }\n",
              "</style>\n",
              "<table border=\"1\" class=\"dataframe\">\n",
              "  <thead>\n",
              "    <tr style=\"text-align: right;\">\n",
              "      <th></th>\n",
              "      <th>ID</th>\n",
              "      <th>Title</th>\n",
              "      <th>Category</th>\n",
              "      <th>Body</th>\n",
              "      <th>Rating</th>\n",
              "    </tr>\n",
              "  </thead>\n",
              "  <tbody>\n",
              "    <tr>\n",
              "      <th>0</th>\n",
              "      <td>5</td>\n",
              "      <td>NaN</td>\n",
              "      <td>NaN</td>\n",
              "      <td>q\\twhats o j simpsons internet address \\r\\na\\t...</td>\n",
              "      <td>0.153659</td>\n",
              "    </tr>\n",
              "    <tr>\n",
              "      <th>1</th>\n",
              "      <td>7</td>\n",
              "      <td>NaN</td>\n",
              "      <td>NaN</td>\n",
              "      <td>how many feminists does it take to screw in a ...</td>\n",
              "      <td>0.145475</td>\n",
              "    </tr>\n",
              "    <tr>\n",
              "      <th>2</th>\n",
              "      <td>8</td>\n",
              "      <td>NaN</td>\n",
              "      <td>NaN</td>\n",
              "      <td>q did you hear about the dyslexic devil worshi...</td>\n",
              "      <td>0.321407</td>\n",
              "    </tr>\n",
              "    <tr>\n",
              "      <th>3</th>\n",
              "      <td>13</td>\n",
              "      <td>NaN</td>\n",
              "      <td>NaN</td>\n",
              "      <td>they asked the japanese visitor if they have e...</td>\n",
              "      <td>0.334060</td>\n",
              "    </tr>\n",
              "    <tr>\n",
              "      <th>4</th>\n",
              "      <td>15</td>\n",
              "      <td>NaN</td>\n",
              "      <td>NaN</td>\n",
              "      <td>q  what did the blind person say when given so...</td>\n",
              "      <td>0.212328</td>\n",
              "    </tr>\n",
              "  </tbody>\n",
              "</table>\n",
              "</div>\n",
              "    <div class=\"colab-df-buttons\">\n",
              "\n",
              "  <div class=\"colab-df-container\">\n",
              "    <button class=\"colab-df-convert\" onclick=\"convertToInteractive('df-1fcf7707-4a3e-4908-90cc-c3dce68bebe2')\"\n",
              "            title=\"Convert this dataframe to an interactive table.\"\n",
              "            style=\"display:none;\">\n",
              "\n",
              "  <svg xmlns=\"http://www.w3.org/2000/svg\" height=\"24px\" viewBox=\"0 -960 960 960\">\n",
              "    <path d=\"M120-120v-720h720v720H120Zm60-500h600v-160H180v160Zm220 220h160v-160H400v160Zm0 220h160v-160H400v160ZM180-400h160v-160H180v160Zm440 0h160v-160H620v160ZM180-180h160v-160H180v160Zm440 0h160v-160H620v160Z\"/>\n",
              "  </svg>\n",
              "    </button>\n",
              "\n",
              "  <style>\n",
              "    .colab-df-container {\n",
              "      display:flex;\n",
              "      gap: 12px;\n",
              "    }\n",
              "\n",
              "    .colab-df-convert {\n",
              "      background-color: #E8F0FE;\n",
              "      border: none;\n",
              "      border-radius: 50%;\n",
              "      cursor: pointer;\n",
              "      display: none;\n",
              "      fill: #1967D2;\n",
              "      height: 32px;\n",
              "      padding: 0 0 0 0;\n",
              "      width: 32px;\n",
              "    }\n",
              "\n",
              "    .colab-df-convert:hover {\n",
              "      background-color: #E2EBFA;\n",
              "      box-shadow: 0px 1px 2px rgba(60, 64, 67, 0.3), 0px 1px 3px 1px rgba(60, 64, 67, 0.15);\n",
              "      fill: #174EA6;\n",
              "    }\n",
              "\n",
              "    .colab-df-buttons div {\n",
              "      margin-bottom: 4px;\n",
              "    }\n",
              "\n",
              "    [theme=dark] .colab-df-convert {\n",
              "      background-color: #3B4455;\n",
              "      fill: #D2E3FC;\n",
              "    }\n",
              "\n",
              "    [theme=dark] .colab-df-convert:hover {\n",
              "      background-color: #434B5C;\n",
              "      box-shadow: 0px 1px 3px 1px rgba(0, 0, 0, 0.15);\n",
              "      filter: drop-shadow(0px 1px 2px rgba(0, 0, 0, 0.3));\n",
              "      fill: #FFFFFF;\n",
              "    }\n",
              "  </style>\n",
              "\n",
              "    <script>\n",
              "      const buttonEl =\n",
              "        document.querySelector('#df-1fcf7707-4a3e-4908-90cc-c3dce68bebe2 button.colab-df-convert');\n",
              "      buttonEl.style.display =\n",
              "        google.colab.kernel.accessAllowed ? 'block' : 'none';\n",
              "\n",
              "      async function convertToInteractive(key) {\n",
              "        const element = document.querySelector('#df-1fcf7707-4a3e-4908-90cc-c3dce68bebe2');\n",
              "        const dataTable =\n",
              "          await google.colab.kernel.invokeFunction('convertToInteractive',\n",
              "                                                    [key], {});\n",
              "        if (!dataTable) return;\n",
              "\n",
              "        const docLinkHtml = 'Like what you see? Visit the ' +\n",
              "          '<a target=\"_blank\" href=https://colab.research.google.com/notebooks/data_table.ipynb>data table notebook</a>'\n",
              "          + ' to learn more about interactive tables.';\n",
              "        element.innerHTML = '';\n",
              "        dataTable['output_type'] = 'display_data';\n",
              "        await google.colab.output.renderOutput(dataTable, element);\n",
              "        const docLink = document.createElement('div');\n",
              "        docLink.innerHTML = docLinkHtml;\n",
              "        element.appendChild(docLink);\n",
              "      }\n",
              "    </script>\n",
              "  </div>\n",
              "\n",
              "\n",
              "    <div id=\"df-b9afc458-42b4-4407-8da9-c15154a5f49f\">\n",
              "      <button class=\"colab-df-quickchart\" onclick=\"quickchart('df-b9afc458-42b4-4407-8da9-c15154a5f49f')\"\n",
              "                title=\"Suggest charts\"\n",
              "                style=\"display:none;\">\n",
              "\n",
              "<svg xmlns=\"http://www.w3.org/2000/svg\" height=\"24px\"viewBox=\"0 0 24 24\"\n",
              "     width=\"24px\">\n",
              "    <g>\n",
              "        <path d=\"M19 3H5c-1.1 0-2 .9-2 2v14c0 1.1.9 2 2 2h14c1.1 0 2-.9 2-2V5c0-1.1-.9-2-2-2zM9 17H7v-7h2v7zm4 0h-2V7h2v10zm4 0h-2v-4h2v4z\"/>\n",
              "    </g>\n",
              "</svg>\n",
              "      </button>\n",
              "\n",
              "<style>\n",
              "  .colab-df-quickchart {\n",
              "      --bg-color: #E8F0FE;\n",
              "      --fill-color: #1967D2;\n",
              "      --hover-bg-color: #E2EBFA;\n",
              "      --hover-fill-color: #174EA6;\n",
              "      --disabled-fill-color: #AAA;\n",
              "      --disabled-bg-color: #DDD;\n",
              "  }\n",
              "\n",
              "  [theme=dark] .colab-df-quickchart {\n",
              "      --bg-color: #3B4455;\n",
              "      --fill-color: #D2E3FC;\n",
              "      --hover-bg-color: #434B5C;\n",
              "      --hover-fill-color: #FFFFFF;\n",
              "      --disabled-bg-color: #3B4455;\n",
              "      --disabled-fill-color: #666;\n",
              "  }\n",
              "\n",
              "  .colab-df-quickchart {\n",
              "    background-color: var(--bg-color);\n",
              "    border: none;\n",
              "    border-radius: 50%;\n",
              "    cursor: pointer;\n",
              "    display: none;\n",
              "    fill: var(--fill-color);\n",
              "    height: 32px;\n",
              "    padding: 0;\n",
              "    width: 32px;\n",
              "  }\n",
              "\n",
              "  .colab-df-quickchart:hover {\n",
              "    background-color: var(--hover-bg-color);\n",
              "    box-shadow: 0 1px 2px rgba(60, 64, 67, 0.3), 0 1px 3px 1px rgba(60, 64, 67, 0.15);\n",
              "    fill: var(--button-hover-fill-color);\n",
              "  }\n",
              "\n",
              "  .colab-df-quickchart-complete:disabled,\n",
              "  .colab-df-quickchart-complete:disabled:hover {\n",
              "    background-color: var(--disabled-bg-color);\n",
              "    fill: var(--disabled-fill-color);\n",
              "    box-shadow: none;\n",
              "  }\n",
              "\n",
              "  .colab-df-spinner {\n",
              "    border: 2px solid var(--fill-color);\n",
              "    border-color: transparent;\n",
              "    border-bottom-color: var(--fill-color);\n",
              "    animation:\n",
              "      spin 1s steps(1) infinite;\n",
              "  }\n",
              "\n",
              "  @keyframes spin {\n",
              "    0% {\n",
              "      border-color: transparent;\n",
              "      border-bottom-color: var(--fill-color);\n",
              "      border-left-color: var(--fill-color);\n",
              "    }\n",
              "    20% {\n",
              "      border-color: transparent;\n",
              "      border-left-color: var(--fill-color);\n",
              "      border-top-color: var(--fill-color);\n",
              "    }\n",
              "    30% {\n",
              "      border-color: transparent;\n",
              "      border-left-color: var(--fill-color);\n",
              "      border-top-color: var(--fill-color);\n",
              "      border-right-color: var(--fill-color);\n",
              "    }\n",
              "    40% {\n",
              "      border-color: transparent;\n",
              "      border-right-color: var(--fill-color);\n",
              "      border-top-color: var(--fill-color);\n",
              "    }\n",
              "    60% {\n",
              "      border-color: transparent;\n",
              "      border-right-color: var(--fill-color);\n",
              "    }\n",
              "    80% {\n",
              "      border-color: transparent;\n",
              "      border-right-color: var(--fill-color);\n",
              "      border-bottom-color: var(--fill-color);\n",
              "    }\n",
              "    90% {\n",
              "      border-color: transparent;\n",
              "      border-bottom-color: var(--fill-color);\n",
              "    }\n",
              "  }\n",
              "</style>\n",
              "\n",
              "      <script>\n",
              "        async function quickchart(key) {\n",
              "          const quickchartButtonEl =\n",
              "            document.querySelector('#' + key + ' button');\n",
              "          quickchartButtonEl.disabled = true;  // To prevent multiple clicks.\n",
              "          quickchartButtonEl.classList.add('colab-df-spinner');\n",
              "          try {\n",
              "            const charts = await google.colab.kernel.invokeFunction(\n",
              "                'suggestCharts', [key], {});\n",
              "          } catch (error) {\n",
              "            console.error('Error during call to suggestCharts:', error);\n",
              "          }\n",
              "          quickchartButtonEl.classList.remove('colab-df-spinner');\n",
              "          quickchartButtonEl.classList.add('colab-df-quickchart-complete');\n",
              "        }\n",
              "        (() => {\n",
              "          let quickchartButtonEl =\n",
              "            document.querySelector('#df-b9afc458-42b4-4407-8da9-c15154a5f49f button');\n",
              "          quickchartButtonEl.style.display =\n",
              "            google.colab.kernel.accessAllowed ? 'block' : 'none';\n",
              "        })();\n",
              "      </script>\n",
              "    </div>\n",
              "\n",
              "    </div>\n",
              "  </div>\n"
            ],
            "application/vnd.google.colaboratory.intrinsic+json": {
              "type": "dataframe",
              "variable_name": "combined_df"
            }
          },
          "metadata": {},
          "execution_count": 7
        }
      ]
    },
    {
      "cell_type": "code",
      "source": [
        "TEST_PERCENTAGE_FROM_ALL = 0.2\n",
        "VAL_PERCENTAGE_FROM_TRAIN = 0.2\n",
        "\n",
        "# Ensure there are jokes and non-jokes in each dataset.\n",
        "\n",
        "X_train_zero = combined_df[combined_df['Rating'] == 0.0]['Body']\n",
        "y_train_zero = combined_df[combined_df['Rating'] == 0.0]['Rating']\n",
        "\n",
        "X_train_notzero = combined_df[combined_df['Rating'] != 0.0]['Body']\n",
        "y_train_notzero = combined_df[combined_df['Rating'] != 0.0]['Rating']\n",
        "\n",
        "X_train_zero, X_test_zero, y_train_zero, y_test_zero = train_test_split(X_train_zero, y_train_zero, test_size=TEST_PERCENTAGE_FROM_ALL, random_state=17)\n",
        "X_train_zero, X_val_zero, y_train_zero, y_val_zero = train_test_split(X_train_zero, y_train_zero, test_size=VAL_PERCENTAGE_FROM_TRAIN, random_state=17)\n",
        "\n",
        "X_train_notzero, X_test_notzero, y_train_notzero, y_test_notzero = train_test_split(X_train_notzero, y_train_notzero, test_size=TEST_PERCENTAGE_FROM_ALL, random_state=17)\n",
        "X_train_notzero, X_val_notzero, y_train_notzero, y_val_notzero = train_test_split(X_train_notzero, y_train_notzero, test_size=VAL_PERCENTAGE_FROM_TRAIN, random_state=17)\n",
        "\n",
        "# Form Datasets\n",
        "\n",
        "X_train = pd.concat([X_train_zero, X_train_notzero])\n",
        "y_train = pd.concat([y_train_zero, y_train_notzero])\n",
        "\n",
        "X_val = pd.concat([X_val_zero, X_val_notzero])\n",
        "y_val = pd.concat([y_val_zero, y_val_notzero])\n",
        "\n",
        "X_test = pd.concat([X_test_zero, X_test_notzero])\n",
        "y_test = pd.concat([y_test_zero, y_test_notzero])\n",
        "\n",
        "print('Train zero:', X_train_zero.shape[0], 'Train not zero:', X_train_notzero.shape[0])\n",
        "print('Val zero:', X_val_zero.shape[0], 'Val not zero:', X_val_notzero.shape[0])\n",
        "print('Test zero:', X_test_zero.shape[0], 'Test not zero:', X_test_notzero.shape[0])"
      ],
      "metadata": {
        "colab": {
          "base_uri": "https://localhost:8080/"
        },
        "id": "o2TN97rELQpn",
        "outputId": "41121bcb-2a3f-4efe-f255-f077a3f09213"
      },
      "execution_count": 8,
      "outputs": [
        {
          "output_type": "stream",
          "name": "stdout",
          "text": [
            "Train zero: 173513 Train not zero: 87601\n",
            "Val zero: 43379 Val not zero: 21901\n",
            "Test zero: 54223 Test not zero: 27376\n"
          ]
        }
      ]
    },
    {
      "cell_type": "markdown",
      "source": [
        "Count / Tfidf Vectorizer + Neural Network Method"
      ],
      "metadata": {
        "id": "7YTPNcQf6hde"
      }
    },
    {
      "cell_type": "code",
      "source": [
        "# vectorizer = CountVectorizer(max_features=1024)\n",
        "vectorizer = TfidfVectorizer(max_features=4096)\n",
        "\n",
        "X_train_vec = vectorizer.fit_transform(X_train)\n",
        "X_val_vec = vectorizer.transform(X_val)\n",
        "X_test_vec = vectorizer.transform(X_test)"
      ],
      "metadata": {
        "id": "hsuHUAtRMW9K"
      },
      "execution_count": null,
      "outputs": []
    },
    {
      "cell_type": "code",
      "source": [
        "class FeaturesDataset(Dataset):\n",
        "  def __init__(self, X, y):\n",
        "    self.X = torch.tensor(X.toarray(), dtype=torch.float32)\n",
        "    self.y = torch.tensor(y.values, dtype=torch.float32)\n",
        "    self.length = self.X.shape[0]\n",
        "\n",
        "  def __getitem__(self, idx):\n",
        "    return self.X[idx], self.y[idx]\n",
        "\n",
        "  def __len__(self):\n",
        "    return self.length\n",
        "\n",
        "\n",
        "class NeuralNetwork(nn.Module):\n",
        "  def __init__(self, input_size, hidden_sizes, output_size):\n",
        "    super(NeuralNetwork, self).__init__()\n",
        "\n",
        "    if (hidden_sizes is None) or len(hidden_sizes) == 0:\n",
        "      raise ValueError('hidden_sizes is None or empty')\n",
        "\n",
        "    self.layers = nn.Sequential()\n",
        "    self.layers.append(nn.Linear(input_size, hidden_sizes[0]))\n",
        "    for idx in range(1, len(hidden_sizes)):\n",
        "      self.layers.append(nn.ReLU())\n",
        "      self.layers.append(nn.Linear(hidden_sizes[idx - 1], hidden_sizes[idx]))\n",
        "\n",
        "    self.layers.append(nn.ReLU())\n",
        "    self.layers.append(nn.Linear(hidden_sizes[-1], output_size))\n",
        "    # self.layers.append(nn.Sigmoid())\n",
        "\n",
        "  def forward(self, X):\n",
        "    return self.layers(X)"
      ],
      "metadata": {
        "id": "qrZCxpLIN7zJ"
      },
      "execution_count": null,
      "outputs": []
    },
    {
      "cell_type": "code",
      "source": [
        "BATCH_SIZE = 64\n",
        "\n",
        "train_dataset = FeaturesDataset(X_train_vec, y_train)\n",
        "val_dataset = FeaturesDataset(X_val_vec, y_val)\n",
        "test_dataset = FeaturesDataset(X_test_vec, y_test)\n",
        "\n",
        "train_dataloader = DataLoader(train_dataset, batch_size=BATCH_SIZE, shuffle=True)\n",
        "val_dataloader = DataLoader(val_dataset, batch_size=BATCH_SIZE, shuffle=False)\n",
        "test_dataloader = DataLoader(test_dataset, batch_size=BATCH_SIZE, shuffle=False)"
      ],
      "metadata": {
        "id": "I5edMolMPaWz",
        "colab": {
          "base_uri": "https://localhost:8080/",
          "height": 211
        },
        "outputId": "b039e9ba-f4e9-4687-b9f4-5639a138a2fe"
      },
      "execution_count": null,
      "outputs": [
        {
          "output_type": "error",
          "ename": "NameError",
          "evalue": "name 'X_train_vec' is not defined",
          "traceback": [
            "\u001b[0;31m---------------------------------------------------------------------------\u001b[0m",
            "\u001b[0;31mNameError\u001b[0m                                 Traceback (most recent call last)",
            "\u001b[0;32m<ipython-input-8-a5fa0b13096a>\u001b[0m in \u001b[0;36m<cell line: 0>\u001b[0;34m()\u001b[0m\n\u001b[1;32m      1\u001b[0m \u001b[0mBATCH_SIZE\u001b[0m \u001b[0;34m=\u001b[0m \u001b[0;36m64\u001b[0m\u001b[0;34m\u001b[0m\u001b[0;34m\u001b[0m\u001b[0m\n\u001b[1;32m      2\u001b[0m \u001b[0;34m\u001b[0m\u001b[0m\n\u001b[0;32m----> 3\u001b[0;31m \u001b[0mtrain_dataset\u001b[0m \u001b[0;34m=\u001b[0m \u001b[0mFeaturesDataset\u001b[0m\u001b[0;34m(\u001b[0m\u001b[0mX_train_vec\u001b[0m\u001b[0;34m,\u001b[0m \u001b[0my_train\u001b[0m\u001b[0;34m)\u001b[0m\u001b[0;34m\u001b[0m\u001b[0;34m\u001b[0m\u001b[0m\n\u001b[0m\u001b[1;32m      4\u001b[0m \u001b[0mval_dataset\u001b[0m \u001b[0;34m=\u001b[0m \u001b[0mFeaturesDataset\u001b[0m\u001b[0;34m(\u001b[0m\u001b[0mX_val_vec\u001b[0m\u001b[0;34m,\u001b[0m \u001b[0my_val\u001b[0m\u001b[0;34m)\u001b[0m\u001b[0;34m\u001b[0m\u001b[0;34m\u001b[0m\u001b[0m\n\u001b[1;32m      5\u001b[0m \u001b[0mtest_dataset\u001b[0m \u001b[0;34m=\u001b[0m \u001b[0mFeaturesDataset\u001b[0m\u001b[0;34m(\u001b[0m\u001b[0mX_test_vec\u001b[0m\u001b[0;34m,\u001b[0m \u001b[0my_test\u001b[0m\u001b[0;34m)\u001b[0m\u001b[0;34m\u001b[0m\u001b[0;34m\u001b[0m\u001b[0m\n",
            "\u001b[0;31mNameError\u001b[0m: name 'X_train_vec' is not defined"
          ]
        }
      ]
    },
    {
      "cell_type": "code",
      "source": [
        "device = torch.device('cuda' if torch.cuda.is_available() else 'cpu')\n",
        "\n",
        "model = NeuralNetwork(input_size=X_train_vec.shape[1], hidden_sizes=[512, 512, 512], output_size=1)\n",
        "model.to(device)"
      ],
      "metadata": {
        "colab": {
          "base_uri": "https://localhost:8080/"
        },
        "id": "wLCk7MDKO1eB",
        "outputId": "59372194-5b92-407f-b17c-64a59686bc20"
      },
      "execution_count": null,
      "outputs": [
        {
          "output_type": "execute_result",
          "data": {
            "text/plain": [
              "NeuralNetwork(\n",
              "  (layers): Sequential(\n",
              "    (0): Linear(in_features=4096, out_features=512, bias=True)\n",
              "    (1): ReLU()\n",
              "    (2): Linear(in_features=512, out_features=512, bias=True)\n",
              "    (3): ReLU()\n",
              "    (4): Linear(in_features=512, out_features=512, bias=True)\n",
              "    (5): ReLU()\n",
              "    (6): Linear(in_features=512, out_features=1, bias=True)\n",
              "  )\n",
              ")"
            ]
          },
          "metadata": {},
          "execution_count": 12
        }
      ]
    },
    {
      "cell_type": "code",
      "source": [
        "def train(model, loss_function, epochs, learning_rate, train_dataloader, val_dataloader):\n",
        "  optimizer = optim.Adam(model.parameters(), lr=learning_rate)\n",
        "  scheduler = lr_scheduler.CosineAnnealingLR(optimizer, T_max=epochs)\n",
        "\n",
        "  train_epoch_losses = []\n",
        "  val_epoch_losses = []\n",
        "\n",
        "  for epoch in range(epochs):\n",
        "    # Train\n",
        "\n",
        "    model.train()\n",
        "    train_current_epoch_loss = 0.0\n",
        "\n",
        "    for batch_idx, (X_batch, y_batch) in enumerate(train_dataloader):\n",
        "      X_batch = X_batch.to(device)\n",
        "      y_batch = y_batch.to(device)\n",
        "\n",
        "      optimizer.zero_grad()\n",
        "      outputs = model(X_batch)\n",
        "      loss = loss_function(outputs.view(-1), y_batch)\n",
        "\n",
        "      loss.backward()\n",
        "      optimizer.step()\n",
        "\n",
        "      train_current_epoch_loss += loss.item()\n",
        "\n",
        "    scheduler.step()\n",
        "\n",
        "    train_current_epoch_avg_loss = train_current_epoch_loss / len(train_dataloader)\n",
        "    train_epoch_losses.append(train_current_epoch_avg_loss)\n",
        "\n",
        "    print(f'Training, Epoch {epoch + 1}/{epochs}, Loss: {train_current_epoch_avg_loss}')\n",
        "\n",
        "    # Validation\n",
        "\n",
        "    model.eval()\n",
        "    val_current_epoch_loss = 0.0\n",
        "\n",
        "    with torch.no_grad():\n",
        "      for batch_idx, (X_batch, y_batch) in enumerate(val_dataloader):\n",
        "        X_batch = X_batch.to(device)\n",
        "        y_batch = y_batch.to(device)\n",
        "\n",
        "        outputs = model(X_batch)\n",
        "        loss = loss_function(outputs.view(-1), y_batch)\n",
        "\n",
        "        val_current_epoch_loss += loss.item()\n",
        "\n",
        "      val_current_epoch_avg_loss = val_current_epoch_loss / len(val_dataloader)\n",
        "      val_epoch_losses.append(val_current_epoch_avg_loss)\n",
        "\n",
        "      print(f'Validation, Epoch {epoch + 1}/{epochs}, Loss: {val_current_epoch_avg_loss}')\n",
        "\n",
        "  return train_epoch_losses, val_epoch_losses\n",
        "\n",
        "\n",
        "def plot_train_results(train_epoch_losses, val_epoch_losses):\n",
        "\n",
        "  plt.figure(figsize=(12, 6))\n",
        "  plt.plot(train_epoch_losses, label='Training Loss', color='blue')\n",
        "  plt.plot(val_epoch_losses, label='Validation Loss', color='red')\n",
        "  plt.xlabel('Epoch')\n",
        "  plt.ylabel('Loss')\n",
        "  plt.title('Training and Validation Losses')\n",
        "  plt.legend()\n",
        "  plt.show()"
      ],
      "metadata": {
        "id": "SH9qb71MPAV5"
      },
      "execution_count": 20,
      "outputs": []
    },
    {
      "cell_type": "code",
      "source": [
        "train_epoch_losses, val_epoch_losses = train(model, nn.MSELoss(), 10, 0.001, train_dataloader, val_dataloader)\n",
        "\n",
        "plot_train_results(train_epoch_losses, val_epoch_losses)"
      ],
      "metadata": {
        "colab": {
          "base_uri": "https://localhost:8080/",
          "height": 846
        },
        "id": "BNOwjgaWRKWw",
        "outputId": "d1952ae0-eaa6-4b9c-a33f-19a6c397f031"
      },
      "execution_count": null,
      "outputs": [
        {
          "output_type": "stream",
          "name": "stdout",
          "text": [
            "Training, Epoch 1/10, Loss: 0.004749104583163778\n",
            "Validation, Epoch 1/10, Loss: 0.004455391246872251\n",
            "Training, Epoch 2/10, Loss: 0.004277411594336168\n",
            "Validation, Epoch 2/10, Loss: 0.004430228612606394\n",
            "Training, Epoch 3/10, Loss: 0.0032838820002197345\n",
            "Validation, Epoch 3/10, Loss: 0.004533019675466444\n",
            "Training, Epoch 4/10, Loss: 0.0024159884197357028\n",
            "Validation, Epoch 4/10, Loss: 0.004672555070306308\n",
            "Training, Epoch 5/10, Loss: 0.0018772864981136362\n",
            "Validation, Epoch 5/10, Loss: 0.0045622451462341085\n",
            "Training, Epoch 6/10, Loss: 0.001517691531152904\n",
            "Validation, Epoch 6/10, Loss: 0.004569002561996004\n",
            "Training, Epoch 7/10, Loss: 0.001322370397935448\n",
            "Validation, Epoch 7/10, Loss: 0.004679356748315558\n",
            "Training, Epoch 8/10, Loss: 0.0011646581491949264\n",
            "Validation, Epoch 8/10, Loss: 0.00461213531050763\n",
            "Training, Epoch 9/10, Loss: 0.00105722506361632\n",
            "Validation, Epoch 9/10, Loss: 0.0045678516992478865\n",
            "Training, Epoch 10/10, Loss: 0.0009944728120540355\n",
            "Validation, Epoch 10/10, Loss: 0.004601614038987838\n"
          ]
        },
        {
          "output_type": "display_data",
          "data": {
            "text/plain": [
              "<Figure size 1200x600 with 1 Axes>"
            ],
            "image/png": "[encoded data removed]"
          },
          "metadata": {}
        }
      ]
    },
    {
      "cell_type": "code",
      "source": [
        "def evaluate_model(model, dataloader, sigmoid_threshold):\n",
        "  model.eval()\n",
        "\n",
        "  predictions = []\n",
        "  labels = []\n",
        "  scores = []\n",
        "\n",
        "  with torch.no_grad():\n",
        "    for batch_idx, (X_batch, y_batch) in enumerate(dataloader):\n",
        "      X_batch = X_batch.to(device)\n",
        "      y_batch = y_batch.to(device)\n",
        "\n",
        "      outputs = model(X_batch)\n",
        "      sigmoid_outputs = torch.sigmoid(outputs)\n",
        "      current_predictions = (sigmoid_outputs > sigmoid_threshold)\n",
        "\n",
        "      predictions.extend(current_predictions.cpu().numpy())\n",
        "      labels.extend((y_batch > 0.0).cpu().numpy()) # 0.0 rated texts are not jokes, positive rated texts are jokes.\n",
        "      scores.extend(sigmoid_outputs.cpu().numpy())\n",
        "\n",
        "  return predictions, labels, scores\n",
        "\n",
        "\n",
        "def find_best_sigmoid_threshold(model, val_dataloader):\n",
        "  best_f1_score = 0.0\n",
        "  best_sigmoid_threshold = 0.5\n",
        "\n",
        "  sigmoid_thresholds = []\n",
        "  precisions = []\n",
        "  recalls = []\n",
        "  f1_scores = []\n",
        "\n",
        "  for sigmoid_threshold in np.arange(0.0, 1.0, 0.05):\n",
        "    val_predictions, val_labels, val_scores = evaluate_model(model, val_dataloader, sigmoid_threshold)\n",
        "\n",
        "    precision, recall, f1_score, _ = precision_recall_fscore_support(val_labels, val_predictions, average='binary', zero_division=0)\n",
        "\n",
        "    if f1_score > best_f1_score:\n",
        "      best_f1_score = f1_score\n",
        "      best_sigmoid_threshold = sigmoid_threshold\n",
        "\n",
        "    sigmoid_thresholds.append(sigmoid_threshold)\n",
        "    precisions.append(precision)\n",
        "    recalls.append(recall)\n",
        "    f1_scores.append(f1_score)\n",
        "\n",
        "    print('Sigmoid Threshold:', sigmoid_threshold, 'Precision:', precision, 'Recall:', recall, 'F1 Score:', f1_score)\n",
        "\n",
        "  plt.figure(figsize=(12, 6))\n",
        "  plt.plot(sigmoid_thresholds, f1_scores, marker='o', linestyle='-', color='blue')\n",
        "  plt.xlabel('Sigmoid Threshold')\n",
        "  plt.ylabel('F1 Score')\n",
        "  plt.title('F1 Score Evolution')\n",
        "  plt.show()\n",
        "\n",
        "  return best_sigmoid_threshold\n",
        "\n",
        "\n",
        "def plot_best_sigmoid_threshold_results(predictions, labels, scores):\n",
        "  conf_matrix = confusion_matrix(labels, predictions)\n",
        "\n",
        "  sns.heatmap(conf_matrix, annot=True, fmt='d', cmap='Blues', xticklabels=['Not Joke', 'Joke'], yticklabels=['Not Joke', 'Joke'])\n",
        "\n",
        "  plt.xlabel('Predicted Labels')\n",
        "  plt.ylabel('True Labels')\n",
        "  plt.title('Confusion Matrix')\n",
        "\n",
        "  plt.show()\n",
        "\n",
        "  if len(np.unique(labels)) == 2:\n",
        "    precision, recall, f1_score, _ = precision_recall_fscore_support(labels, predictions, average='binary', zero_division=0)\n",
        "  else:\n",
        "    precision, recall, f1_score, _ = precision_recall_fscore_support(labels, predictions, average='macro', zero_division=0)\n",
        "\n",
        "  print('Precision:', precision)\n",
        "  print('Recall:', recall)\n",
        "  print('F1 Score:', f1_score)\n",
        "\n",
        "  precisions, recalls, thresholds = precision_recall_curve(labels, scores)\n",
        "\n",
        "  plt.figure()\n",
        "  plt.plot(recalls, precisions)\n",
        "  plt.xlabel('Recall')\n",
        "  plt.ylabel('Precision')\n",
        "  plt.title('Precision-Recall Curve')\n",
        "  # plt.grid(True)\n",
        "  plt.show()\n",
        "\n",
        "  return precision, recall, f1_score"
      ],
      "metadata": {
        "id": "YF0MwGB2XXDm"
      },
      "execution_count": 58,
      "outputs": []
    },
    {
      "cell_type": "code",
      "source": [
        "best_sigmoid_threshold = find_best_sigmoid_threshold(model, val_dataloader)\n",
        "\n",
        "val_predictions, val_labels, val_scores = evaluate_model(model, val_dataloader, best_sigmoid_threshold)\n",
        "\n",
        "precision, recall, f1_score = plot_best_sigmoid_threshold_results(val_predictions, val_labels, val_scores)"
      ],
      "metadata": {
        "colab": {
          "base_uri": "https://localhost:8080/",
          "height": 228
        },
        "id": "OoEkq9efX7a7",
        "outputId": "cbfe4e17-e6bd-4f49-e3db-5bb1641ee05d"
      },
      "execution_count": 56,
      "outputs": [
        {
          "output_type": "error",
          "ename": "NameError",
          "evalue": "name 'model' is not defined",
          "traceback": [
            "\u001b[0;31m---------------------------------------------------------------------------\u001b[0m",
            "\u001b[0;31mNameError\u001b[0m                                 Traceback (most recent call last)",
            "\u001b[0;32m<ipython-input-56-f62e5b2bbc83>\u001b[0m in \u001b[0;36m<cell line: 0>\u001b[0;34m()\u001b[0m\n\u001b[0;32m----> 1\u001b[0;31m \u001b[0mbest_sigmoid_threshold\u001b[0m \u001b[0;34m=\u001b[0m \u001b[0mfind_best_sigmoid_threshold\u001b[0m\u001b[0;34m(\u001b[0m\u001b[0mmodel\u001b[0m\u001b[0;34m,\u001b[0m \u001b[0mval_dataloader\u001b[0m\u001b[0;34m)\u001b[0m\u001b[0;34m\u001b[0m\u001b[0;34m\u001b[0m\u001b[0m\n\u001b[0m\u001b[1;32m      2\u001b[0m \u001b[0;34m\u001b[0m\u001b[0m\n\u001b[1;32m      3\u001b[0m \u001b[0mval_predictions\u001b[0m\u001b[0;34m,\u001b[0m \u001b[0mval_labels\u001b[0m\u001b[0;34m,\u001b[0m \u001b[0mval_scores\u001b[0m \u001b[0;34m=\u001b[0m \u001b[0mevaluate_model\u001b[0m\u001b[0;34m(\u001b[0m\u001b[0mmodel\u001b[0m\u001b[0;34m,\u001b[0m \u001b[0mval_dataloader\u001b[0m\u001b[0;34m,\u001b[0m \u001b[0mbest_sigmoid_threshold\u001b[0m\u001b[0;34m)\u001b[0m\u001b[0;34m\u001b[0m\u001b[0;34m\u001b[0m\u001b[0m\n\u001b[1;32m      4\u001b[0m \u001b[0;34m\u001b[0m\u001b[0m\n\u001b[1;32m      5\u001b[0m \u001b[0mprecision\u001b[0m\u001b[0;34m,\u001b[0m \u001b[0mrecall\u001b[0m\u001b[0;34m,\u001b[0m \u001b[0mf1_score\u001b[0m \u001b[0;34m=\u001b[0m \u001b[0mplot_best_sigmoid_threshold_results\u001b[0m\u001b[0;34m(\u001b[0m\u001b[0mval_predictions\u001b[0m\u001b[0;34m,\u001b[0m \u001b[0mval_labels\u001b[0m\u001b[0;34m,\u001b[0m \u001b[0mval_scores\u001b[0m\u001b[0;34m)\u001b[0m\u001b[0;34m\u001b[0m\u001b[0;34m\u001b[0m\u001b[0m\n",
            "\u001b[0;31mNameError\u001b[0m: name 'model' is not defined"
          ]
        }
      ]
    },
    {
      "cell_type": "code",
      "source": [
        "test_predictions, test_labels, test_scores = evaluate_model(model, test_dataloader, best_sigmoid_threshold)\n",
        "\n",
        "precision, recall, f1_score = plot_best_sigmoid_threshold_results(test_predictions, test_labels, test_scores)"
      ],
      "metadata": {
        "colab": {
          "base_uri": "https://localhost:8080/",
          "height": 979
        },
        "id": "fhNVAnR_bz5v",
        "outputId": "70659561-cf69-471e-8220-ca51c8c6f2a5"
      },
      "execution_count": null,
      "outputs": [
        {
          "output_type": "display_data",
          "data": {
            "text/plain": [
              "<Figure size 640x480 with 2 Axes>"
            ],
            "image/png": "[encoded data removed]"
          },
          "metadata": {}
        },
        {
          "output_type": "stream",
          "name": "stdout",
          "text": [
            "Precision: 0.37258800521512386\n",
            "Recall: 0.8351110461718293\n",
            "F1 Score: 0.51528128380815\n"
          ]
        },
        {
          "output_type": "display_data",
          "data": {
            "text/plain": [
              "<Figure size 640x480 with 1 Axes>"
            ],
            "image/png": "[encoded data removed]"
          },
          "metadata": {}
        }
      ]
    },
    {
      "cell_type": "markdown",
      "source": [
        "Positional Encoding + Neural Network Method"
      ],
      "metadata": {
        "id": "LNeq7RiDINlj"
      }
    },
    {
      "cell_type": "code",
      "source": [
        "nlp = spacy.load('en_core_web_md')"
      ],
      "metadata": {
        "id": "DhqBtxscHfuv"
      },
      "execution_count": 9,
      "outputs": []
    },
    {
      "cell_type": "code",
      "source": [
        "def combine_encodings(nlp, embeddings, num_sin_functions=128):\n",
        "  combined_embeddings = []\n",
        "\n",
        "  for embedding_idx, embedding in enumerate(embeddings):\n",
        "    combined_embedding = np.array([0.0] * nlp.vocab.vectors_length)\n",
        "    for token_idx, token_embedding in enumerate(embedding):\n",
        "      # pos_0 = token_idx / (10.0 ** (2.0 * token_idx / num_sin_functions))\n",
        "      # pos_1 = token_idx / (10.0 ** (2.0 * token_idx / num_sin_functions))\n",
        "\n",
        "      # sin_value = np.sin(pos_0)\n",
        "      # cos_value = np.cos(pos_1)\n",
        "\n",
        "      # if token_idx % 2 == 0:\n",
        "      #   combined_embedding += token_embedding * sin_value\n",
        "      # else:\n",
        "      #   combined_embedding += token_embedding * cos_value\n",
        "\n",
        "      combined_embedding += token_embedding\n",
        "\n",
        "    combined_embeddings.append(combined_embedding.tolist())\n",
        "\n",
        "    if (embedding_idx + 1) % 500 == 0:\n",
        "      print('combine_encodings: Processed', embedding_idx + 1, 'embeddings')\n",
        "\n",
        "  return np.array(combined_embeddings)\n",
        "\n",
        "\n",
        "def embed_texts(nlp, texts, batch_size=64): # Expects a list of strings\n",
        "  embeddings = []\n",
        "\n",
        "  docs = nlp.pipe(texts, batch_size=batch_size)\n",
        "  for doc_idx, doc in enumerate(docs):\n",
        "    embedding = [token.vector for token in doc if token.has_vector]\n",
        "\n",
        "    if embedding:\n",
        "      embeddings.append(embedding)\n",
        "\n",
        "    if (doc_idx + 1) % 2500 == 0:\n",
        "      print('embed_texts: Processed', doc_idx + 1, 'texts')\n",
        "\n",
        "  return combine_encodings(nlp, embeddings)\n",
        "\n",
        "\n",
        "def sample_from(X, y, num_samples):\n",
        "\n",
        "  # if num_samples > X.shape[0]:\n",
        "  #   raise ValueError('num_samples cannot be greater than the number of samples in X')\n",
        "\n",
        "  np.random.seed(17)\n",
        "\n",
        "  indices = np.random.choice(X.index, num_samples, replace=False)\n",
        "  return X.loc[indices], y.loc[indices]"
      ],
      "metadata": {
        "id": "dmbBq4iPKJUb"
      },
      "execution_count": 48,
      "outputs": []
    },
    {
      "cell_type": "code",
      "source": [
        "NUM_SAMPLES = 10000\n",
        "\n",
        "X_train_samples, y_train_samples = sample_from(X_train, y_train, NUM_SAMPLES)\n",
        "X_train_embeddings = embed_texts(nlp, X_train_samples.tolist())\n",
        "\n",
        "X_val_samples, y_val_samples = sample_from(X_val, y_val, NUM_SAMPLES)\n",
        "X_val_embeddings = embed_texts(nlp, X_val_samples.tolist())\n",
        "\n",
        "X_test_samples, y_test_samples = sample_from(X_test, y_test, NUM_SAMPLES)\n",
        "X_test_embeddings = embed_texts(nlp, X_test_samples.tolist())"
      ],
      "metadata": {
        "colab": {
          "base_uri": "https://localhost:8080/"
        },
        "id": "-3j9Pop_LQpf",
        "outputId": "919f8c7e-20ec-434c-e276-84209ce87d91"
      },
      "execution_count": 49,
      "outputs": [
        {
          "output_type": "stream",
          "name": "stdout",
          "text": [
            "embed_texts: Processed 2500 texts\n",
            "embed_texts: Processed 5000 texts\n",
            "embed_texts: Processed 7500 texts\n",
            "embed_texts: Processed 10000 texts\n",
            "combine_encodings: Processed 500 embeddings\n",
            "combine_encodings: Processed 1000 embeddings\n",
            "combine_encodings: Processed 1500 embeddings\n",
            "combine_encodings: Processed 2000 embeddings\n",
            "combine_encodings: Processed 2500 embeddings\n",
            "combine_encodings: Processed 3000 embeddings\n",
            "combine_encodings: Processed 3500 embeddings\n",
            "combine_encodings: Processed 4000 embeddings\n",
            "combine_encodings: Processed 4500 embeddings\n",
            "combine_encodings: Processed 5000 embeddings\n",
            "combine_encodings: Processed 5500 embeddings\n",
            "combine_encodings: Processed 6000 embeddings\n",
            "combine_encodings: Processed 6500 embeddings\n",
            "combine_encodings: Processed 7000 embeddings\n",
            "combine_encodings: Processed 7500 embeddings\n",
            "combine_encodings: Processed 8000 embeddings\n",
            "combine_encodings: Processed 8500 embeddings\n",
            "combine_encodings: Processed 9000 embeddings\n",
            "combine_encodings: Processed 9500 embeddings\n",
            "embed_texts: Processed 2500 texts\n",
            "embed_texts: Processed 5000 texts\n",
            "embed_texts: Processed 7500 texts\n",
            "embed_texts: Processed 10000 texts\n",
            "combine_encodings: Processed 500 embeddings\n",
            "combine_encodings: Processed 1000 embeddings\n",
            "combine_encodings: Processed 1500 embeddings\n",
            "combine_encodings: Processed 2000 embeddings\n",
            "combine_encodings: Processed 2500 embeddings\n",
            "combine_encodings: Processed 3000 embeddings\n",
            "combine_encodings: Processed 3500 embeddings\n",
            "combine_encodings: Processed 4000 embeddings\n",
            "combine_encodings: Processed 4500 embeddings\n",
            "combine_encodings: Processed 5000 embeddings\n",
            "combine_encodings: Processed 5500 embeddings\n",
            "combine_encodings: Processed 6000 embeddings\n",
            "combine_encodings: Processed 6500 embeddings\n",
            "combine_encodings: Processed 7000 embeddings\n",
            "combine_encodings: Processed 7500 embeddings\n",
            "combine_encodings: Processed 8000 embeddings\n",
            "combine_encodings: Processed 8500 embeddings\n",
            "combine_encodings: Processed 9000 embeddings\n",
            "combine_encodings: Processed 9500 embeddings\n",
            "embed_texts: Processed 2500 texts\n",
            "embed_texts: Processed 5000 texts\n",
            "embed_texts: Processed 7500 texts\n",
            "embed_texts: Processed 10000 texts\n",
            "combine_encodings: Processed 500 embeddings\n",
            "combine_encodings: Processed 1000 embeddings\n",
            "combine_encodings: Processed 1500 embeddings\n",
            "combine_encodings: Processed 2000 embeddings\n",
            "combine_encodings: Processed 2500 embeddings\n",
            "combine_encodings: Processed 3000 embeddings\n",
            "combine_encodings: Processed 3500 embeddings\n",
            "combine_encodings: Processed 4000 embeddings\n",
            "combine_encodings: Processed 4500 embeddings\n",
            "combine_encodings: Processed 5000 embeddings\n",
            "combine_encodings: Processed 5500 embeddings\n",
            "combine_encodings: Processed 6000 embeddings\n",
            "combine_encodings: Processed 6500 embeddings\n",
            "combine_encodings: Processed 7000 embeddings\n",
            "combine_encodings: Processed 7500 embeddings\n",
            "combine_encodings: Processed 8000 embeddings\n",
            "combine_encodings: Processed 8500 embeddings\n",
            "combine_encodings: Processed 9000 embeddings\n",
            "combine_encodings: Processed 9500 embeddings\n"
          ]
        }
      ]
    },
    {
      "cell_type": "code",
      "source": [
        "print(np.sum(y_train_samples == 0.0))\n",
        "print(np.sum(y_train_samples > 0.0))\n",
        "\n",
        "print(np.sum(y_val_samples == 0.0))\n",
        "print(np.sum(y_val_samples > 0.0))\n",
        "\n",
        "print(np.sum(y_test_samples == 0.0))\n",
        "print(np.sum(y_test_samples > 0.0))"
      ],
      "metadata": {
        "colab": {
          "base_uri": "https://localhost:8080/"
        },
        "id": "nuCQbAABZIfC",
        "outputId": "75ffd400-82be-4247-a888-e0a79459e891"
      },
      "execution_count": 50,
      "outputs": [
        {
          "output_type": "stream",
          "name": "stdout",
          "text": [
            "6634\n",
            "3366\n",
            "6638\n",
            "3362\n",
            "6672\n",
            "3328\n"
          ]
        }
      ]
    },
    {
      "cell_type": "code",
      "source": [
        "class FeaturesDataset(Dataset):\n",
        "  def __init__(self, X, y):\n",
        "    self.X = torch.tensor(X, dtype=torch.float32)\n",
        "    self.y = torch.tensor(y.values, dtype=torch.float32)\n",
        "    self.length = self.X.shape[0]\n",
        "\n",
        "  def __getitem__(self, idx):\n",
        "    return self.X[idx], self.y[idx]\n",
        "\n",
        "  def __len__(self):\n",
        "    return self.length\n",
        "\n",
        "\n",
        "class NeuralNetwork(nn.Module):\n",
        "  def __init__(self, input_size, hidden_sizes, output_size):\n",
        "    super(NeuralNetwork, self).__init__()\n",
        "\n",
        "    if (hidden_sizes is None) or len(hidden_sizes) == 0:\n",
        "      raise ValueError('hidden_sizes is None or empty')\n",
        "\n",
        "    self.layers = nn.Sequential()\n",
        "    self.layers.append(nn.Linear(input_size, hidden_sizes[0]))\n",
        "    for idx in range(1, len(hidden_sizes)):\n",
        "      self.layers.append(nn.ReLU())\n",
        "      self.layers.append(nn.Linear(hidden_sizes[idx - 1], hidden_sizes[idx]))\n",
        "\n",
        "    self.layers.append(nn.ReLU())\n",
        "    self.layers.append(nn.Linear(hidden_sizes[-1], output_size))\n",
        "    # self.layers.append(nn.Sigmoid())\n",
        "\n",
        "  def forward(self, X):\n",
        "    return self.layers(X)"
      ],
      "metadata": {
        "id": "J5G9udD6hRhH"
      },
      "execution_count": 36,
      "outputs": []
    },
    {
      "cell_type": "code",
      "source": [
        "BATCH_SIZE = 64\n",
        "\n",
        "train_dataset = FeaturesDataset(X_train_embeddings, y_train_samples)\n",
        "val_dataset = FeaturesDataset(X_val_embeddings, y_val_samples)\n",
        "test_dataset = FeaturesDataset(X_test_embeddings, y_test_samples)\n",
        "\n",
        "train_dataloader = DataLoader(train_dataset, batch_size=BATCH_SIZE, shuffle=True)\n",
        "val_dataloader = DataLoader(val_dataset, batch_size=BATCH_SIZE, shuffle=False)\n",
        "test_dataloader = DataLoader(test_dataset, batch_size=BATCH_SIZE, shuffle=False)"
      ],
      "metadata": {
        "id": "oRWc0CBoeASp"
      },
      "execution_count": 51,
      "outputs": []
    },
    {
      "cell_type": "code",
      "source": [
        "device = torch.device('cuda' if torch.cuda.is_available() else 'cpu')\n",
        "\n",
        "positional_encoding_model = NeuralNetwork(input_size=X_train_embeddings.shape[1], hidden_sizes=[512, 512, 512], output_size=1)\n",
        "positional_encoding_model.to(device)"
      ],
      "metadata": {
        "colab": {
          "base_uri": "https://localhost:8080/"
        },
        "id": "uTC0KfjZc2hQ",
        "outputId": "3ea6b574-b024-4368-ba79-62bf9ff6180c"
      },
      "execution_count": 52,
      "outputs": [
        {
          "output_type": "execute_result",
          "data": {
            "text/plain": [
              "NeuralNetwork(\n",
              "  (layers): Sequential(\n",
              "    (0): Linear(in_features=300, out_features=512, bias=True)\n",
              "    (1): ReLU()\n",
              "    (2): Linear(in_features=512, out_features=512, bias=True)\n",
              "    (3): ReLU()\n",
              "    (4): Linear(in_features=512, out_features=512, bias=True)\n",
              "    (5): ReLU()\n",
              "    (6): Linear(in_features=512, out_features=1, bias=True)\n",
              "  )\n",
              ")"
            ]
          },
          "metadata": {},
          "execution_count": 52
        }
      ]
    },
    {
      "cell_type": "code",
      "source": [
        "train_epoch_losses, val_epoch_losses = train(positional_encoding_model, nn.MSELoss(), 7, 0.001, train_dataloader, val_dataloader)\n",
        "\n",
        "plot_train_results(train_epoch_losses, val_epoch_losses)"
      ],
      "metadata": {
        "colab": {
          "base_uri": "https://localhost:8080/",
          "height": 729
        },
        "id": "nVB2MgEJfOHM",
        "outputId": "7b663b5b-dfe0-4bc4-c736-3bb49826937f"
      },
      "execution_count": 53,
      "outputs": [
        {
          "output_type": "stream",
          "name": "stdout",
          "text": [
            "Training, Epoch 1/7, Loss: 0.43292451646796715\n",
            "Validation, Epoch 1/7, Loss: 0.004821503904625594\n",
            "Training, Epoch 2/7, Loss: 0.005369544051814779\n",
            "Validation, Epoch 2/7, Loss: 0.005171087098349216\n",
            "Training, Epoch 3/7, Loss: 0.0057223529473459725\n",
            "Validation, Epoch 3/7, Loss: 0.004675293961660035\n",
            "Training, Epoch 4/7, Loss: 0.004296579272997933\n",
            "Validation, Epoch 4/7, Loss: 0.0047270673697048255\n",
            "Training, Epoch 5/7, Loss: 0.004304759078231948\n",
            "Validation, Epoch 5/7, Loss: 0.004717562049148499\n",
            "Training, Epoch 6/7, Loss: 0.0043191131526386485\n",
            "Validation, Epoch 6/7, Loss: 0.004831817570459774\n",
            "Training, Epoch 7/7, Loss: 0.004198020787460395\n",
            "Validation, Epoch 7/7, Loss: 0.004675442528147664\n"
          ]
        },
        {
          "output_type": "display_data",
          "data": {
            "text/plain": [
              "<Figure size 1200x600 with 1 Axes>"
            ],
            "image/png": "[encoded data removed]"
          },
          "metadata": {}
        }
      ]
    },
    {
      "cell_type": "code",
      "source": [
        "best_sigmoid_threshold = find_best_sigmoid_threshold(positional_encoding_model, val_dataloader)\n",
        "\n",
        "val_predictions, val_labels, val_scores = evaluate_model(positional_encoding_model, val_dataloader, best_sigmoid_threshold)\n",
        "\n",
        "precision, recall, f1_score = plot_best_sigmoid_threshold_results(val_predictions, val_labels, val_scores)"
      ],
      "metadata": {
        "colab": {
          "base_uri": "https://localhost:8080/",
          "height": 1000
        },
        "id": "R3g23hDAfVII",
        "outputId": "e631f918-8291-42cc-8c5f-589c7de4323b"
      },
      "execution_count": 57,
      "outputs": [
        {
          "output_type": "stream",
          "name": "stdout",
          "text": [
            "Sigmoid Threshold: 0.0 Precision: 0.3364693980778958 Recall: 1.0 F1 Score: 0.5035197941109681\n",
            "Sigmoid Threshold: 0.05 Precision: 0.3364693980778958 Recall: 1.0 F1 Score: 0.5035197941109681\n",
            "Sigmoid Threshold: 0.1 Precision: 0.3364693980778958 Recall: 1.0 F1 Score: 0.5035197941109681\n",
            "Sigmoid Threshold: 0.15000000000000002 Precision: 0.3364693980778958 Recall: 1.0 F1 Score: 0.5035197941109681\n",
            "Sigmoid Threshold: 0.2 Precision: 0.3364693980778958 Recall: 1.0 F1 Score: 0.5035197941109681\n",
            "Sigmoid Threshold: 0.25 Precision: 0.3364693980778958 Recall: 1.0 F1 Score: 0.5035197941109681\n",
            "Sigmoid Threshold: 0.30000000000000004 Precision: 0.3364693980778958 Recall: 1.0 F1 Score: 0.5035197941109681\n",
            "Sigmoid Threshold: 0.35000000000000003 Precision: 0.3364693980778958 Recall: 1.0 F1 Score: 0.5035197941109681\n",
            "Sigmoid Threshold: 0.4 Precision: 0.3364693980778958 Recall: 1.0 F1 Score: 0.5035197941109681\n",
            "Sigmoid Threshold: 0.45 Precision: 0.3364693980778958 Recall: 1.0 F1 Score: 0.5035197941109681\n",
            "Sigmoid Threshold: 0.5 Precision: 0.33659663403365964 Recall: 0.9200240529164161 F1 Score: 0.49287267455907224\n",
            "Sigmoid Threshold: 0.55 Precision: 1.0 Recall: 0.0003006614552014432 F1 Score: 0.0006011421701232341\n",
            "Sigmoid Threshold: 0.6000000000000001 Precision: 0.0 Recall: 0.0 F1 Score: 0.0\n",
            "Sigmoid Threshold: 0.65 Precision: 0.0 Recall: 0.0 F1 Score: 0.0\n",
            "Sigmoid Threshold: 0.7000000000000001 Precision: 0.0 Recall: 0.0 F1 Score: 0.0\n",
            "Sigmoid Threshold: 0.75 Precision: 0.0 Recall: 0.0 F1 Score: 0.0\n",
            "Sigmoid Threshold: 0.8 Precision: 0.0 Recall: 0.0 F1 Score: 0.0\n",
            "Sigmoid Threshold: 0.8500000000000001 Precision: 0.0 Recall: 0.0 F1 Score: 0.0\n",
            "Sigmoid Threshold: 0.9 Precision: 0.0 Recall: 0.0 F1 Score: 0.0\n",
            "Sigmoid Threshold: 0.9500000000000001 Precision: 0.0 Recall: 0.0 F1 Score: 0.0\n"
          ]
        },
        {
          "output_type": "display_data",
          "data": {
            "text/plain": [
              "<Figure size 1200x600 with 1 Axes>"
            ],
            "image/png": "[encoded data removed]"
          },
          "metadata": {}
        },
        {
          "output_type": "display_data",
          "data": {
            "text/plain": [
              "<Figure size 640x480 with 2 Axes>"
            ],
            "image/png": "[encoded data removed]"
          },
          "metadata": {}
        },
        {
          "output_type": "stream",
          "name": "stdout",
          "text": [
            "Precision: 0.3364693980778958\n",
            "Recall: 1.0\n",
            "F1 Score: 0.5035197941109681\n"
          ]
        },
        {
          "output_type": "display_data",
          "data": {
            "text/plain": [
              "<Figure size 640x480 with 1 Axes>"
            ],
            "image/png": "[encoded data removed]"
          },
          "metadata": {}
        }
      ]
    },
    {
      "cell_type": "code",
      "source": [
        "test_predictions, test_labels, test_scores = evaluate_model(positional_encoding_model, test_dataloader, best_sigmoid_threshold)\n",
        "\n",
        "precision, recall, f1_score = plot_best_sigmoid_threshold_results(test_predictions, test_labels, test_scores)"
      ],
      "metadata": {
        "colab": {
          "base_uri": "https://localhost:8080/",
          "height": 979
        },
        "id": "h1qRbESHfe1l",
        "outputId": "7d71fd05-b516-4dc3-a507-5e18470987d0"
      },
      "execution_count": 44,
      "outputs": [
        {
          "output_type": "display_data",
          "data": {
            "text/plain": [
              "<Figure size 640x480 with 2 Axes>"
            ],
            "image/png": "[encoded data removed]"
          },
          "metadata": {}
        },
        {
          "output_type": "stream",
          "name": "stdout",
          "text": [
            "Precision: 0.3332660068672995\n",
            "Recall: 1.0\n",
            "F1 Score: 0.4999242539009241\n"
          ]
        },
        {
          "output_type": "display_data",
          "data": {
            "text/plain": [
              "<Figure size 640x480 with 1 Axes>"
            ],
            "image/png": "[encoded data removed]"
          },
          "metadata": {}
        }
      ]
    }
  ]
}